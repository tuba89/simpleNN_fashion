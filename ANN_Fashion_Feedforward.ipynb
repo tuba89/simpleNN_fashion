{
  "nbformat": 4,
  "nbformat_minor": 0,
  "metadata": {
    "colab": {
      "name": "ANN_Fashion Feedforward.ipynb",
      "provenance": [],
      "collapsed_sections": [],
      "include_colab_link": true
    },
    "kernelspec": {
      "name": "python3",
      "display_name": "Python 3"
    }
  },
  "cells": [
    {
      "cell_type": "markdown",
      "metadata": {
        "id": "view-in-github",
        "colab_type": "text"
      },
      "source": [
        "<a href=\"https://colab.research.google.com/github/tuba89/simpleNN_fashion/blob/main/ANN_Fashion_Feedforward.ipynb\" target=\"_parent\"><img src=\"https://colab.research.google.com/assets/colab-badge.svg\" alt=\"Open In Colab\"/></a>"
      ]
    },
    {
      "cell_type": "markdown",
      "metadata": {
        "id": "HFfN7kHs30Za"
      },
      "source": [
        "# Introduction\n",
        "In this practical, we implement and train a feed-forward neural network (also known as an \"MLP\" for \"multi-layer perceptron\") on a dataset called \"Fashion MNIST\", consisting of small greyscale images of items of fashion."
      ]
    },
    {
      "cell_type": "markdown",
      "metadata": {
        "id": "By8UCLvd4AXs"
      },
      "source": [
        "# Learning Objectives\n",
        "\n",
        "* Understand how to use Keras Layers to build a neural network architecture\n",
        "* Understand how a model is trained and evaluated\n",
        "* Understand the concept of train/validation/test split and why it's useful"
      ]
    },
    {
      "cell_type": "code",
      "metadata": {
        "id": "led8b_He3lSO"
      },
      "source": [
        "from __future__ import print_function\n",
        "\n",
        "import keras\n",
        "from keras.datasets import fashion_mnist\n",
        "from keras.models import Sequential\n",
        "from keras.layers import Dense, Dropout\n",
        "from keras.optimizers import RMSprop\n",
        "import numpy as np \n",
        "import matplotlib.pyplot as plt\n",
        "import tensorflow as tf\n"
      ],
      "execution_count": 1,
      "outputs": []
    },
    {
      "cell_type": "markdown",
      "metadata": {
        "id": "mz3nYTAQ5Om_"
      },
      "source": [
        "# Data\n",
        "In this practical, we use the Fashion MNIST dataset consisting of 70,000 greyscale images and their labels. The dataset is divided\n",
        " into 60,000 training images and 10,000 test images. The idea is to train a **classifier** to identify the class value (what type of fashion item it is) given the image. We train and *tune* a model on the 60,000 training images and then evaluate how well it classifies the 10,000 test images that the model did not see during training. This task is an example of a **supervised learning** problem, where we are given both input and labels (targets) to learn from. This is in contrast to **unsupervised learning** where we only have inputs from which to learn patterns or **reinforcement learning** where an agent learns how to maximise a reward signal through interaction with its environment. "
      ]
    },
    {
      "cell_type": "markdown",
      "metadata": {
        "id": "NuXlN2AI5jQU"
      },
      "source": [
        "![Texte alternatif…](https://res.cloudinary.com/practicaldev/image/fetch/s---fNWEeWA--/c_imagga_scale,f_auto,fl_progressive,h_420,q_auto,w_1000/https://raw.githubusercontent.com/zalandoresearch/fashion-mnist/master/doc/img/fashion-mnist-sprite.png)"
      ]
    },
    {
      "cell_type": "markdown",
      "metadata": {
        "id": "6viD-QxP56CW"
      },
      "source": [
        "# Train/Validation/Test Split\n",
        "\n",
        "When we build machine learning models, the goal is to build a model that will perform well on future data that we have not seen yet. We say that we want our models to be able to generalise well from whatever training data we can collect and do have available, to whatever data we will be applying them to in future. To do this, we split whatever data we have available into a training set, a validation set and a test set. The idea is that we train our model and use the performance on the validation set to make any adjustments to the model and its hyperparameters, but then we report the final accuracy on the test set. The test set (which we never train on), therefore acts as a proxy for our future data."
      ]
    },
    {
      "cell_type": "code",
      "metadata": {
        "id": "Pj6ujhiG57U7"
      },
      "source": [
        "(train_and_validation_images, train_and_validation_labels), (test_images, test_labels) = fashion_mnist.load_data()"
      ],
      "execution_count": 2,
      "outputs": []
    },
    {
      "cell_type": "code",
      "metadata": {
        "id": "nugXqVz45_gc"
      },
      "source": [
        "# Construct a validation set from the last 10 000 images and labels from \n",
        "# train_and_validation_images and train_and_validation_labels\n",
        "validation_images = train_and_validation_images[-10000:, :, :]\n",
        "validation_labels = train_and_validation_labels[-10000:] # 0 to 9\n",
        "\n",
        "# Construct a training set from the first 50 000 images and labels.\n",
        "train_images = train_and_validation_images[:50000, :, :]\n",
        "train_labels = train_and_validation_labels[:50000]"
      ],
      "execution_count": 3,
      "outputs": []
    },
    {
      "cell_type": "code",
      "metadata": {
        "colab": {
          "base_uri": "https://localhost:8080/"
        },
        "id": "1P1xpz8aaXEU",
        "outputId": "c015bcd4-117c-48f0-d890-c917443f2486"
      },
      "source": [
        "train_labels"
      ],
      "execution_count": 4,
      "outputs": [
        {
          "output_type": "execute_result",
          "data": {
            "text/plain": [
              "array([9, 0, 0, ..., 5, 1, 7], dtype=uint8)"
            ]
          },
          "metadata": {
            "tags": []
          },
          "execution_count": 4
        }
      ]
    },
    {
      "cell_type": "code",
      "metadata": {
        "id": "mbgd2G736W0m"
      },
      "source": [
        "text_labels = ['T-shirt/top', 'Trouser', 'Pullover', 'Dress', 'Coat', 'Sandal', 'Shirt', 'Sneaker', 'Bag', 'Ankle boot']"
      ],
      "execution_count": 5,
      "outputs": []
    },
    {
      "cell_type": "code",
      "metadata": {
        "id": "am1Pzfc-6GfH",
        "colab": {
          "base_uri": "https://localhost:8080/",
          "height": 281
        },
        "outputId": "4ea18b66-1c65-493a-de66-6fd6451be19d"
      },
      "source": [
        "plt.figure()\n",
        "random_index = np.random.randint(0, len(train_images))\n",
        "plt.imshow(train_images[random_index], cmap=plt.cm.binary)\n",
        "plt.colorbar()\n",
        "numerical_label = train_labels[random_index]\n",
        "text_description = text_labels[numerical_label]\n",
        "plt.title('True Class: {} (\"{}\")'.format(numerical_label, text_description))\n",
        "\n",
        "plt.gca().grid(False)"
      ],
      "execution_count": 6,
      "outputs": [
        {
          "output_type": "display_data",
          "data": {
            "image/png": "[encoded data removed]",
            "text/plain": [
              "<Figure size 432x288 with 2 Axes>"
            ]
          },
          "metadata": {
            "tags": [],
            "needs_background": "light"
          }
        }
      ]
    },
    {
      "cell_type": "code",
      "metadata": {
        "id": "B3oh8xTI6Q09",
        "colab": {
          "base_uri": "https://localhost:8080/",
          "height": 1000
        },
        "outputId": "d945d6a5-154f-43f7-cb8e-21b05cc70eef"
      },
      "source": [
        "# Another view, showing 50 randomly selected images at a time\n",
        "plt.figure(figsize=(20,20))\n",
        "for i in range(50):\n",
        "    plt.subplot(5,10,i+1)\n",
        "    plt.xticks([])\n",
        "    plt.yticks([])\n",
        "    plt.grid('off')\n",
        "    \n",
        "    img_index = np.random.randint(0, 50000)\n",
        "    plt.imshow(train_images[img_index], cmap=plt.cm.binary)\n",
        "    plt.xlabel(text_labels[train_labels[img_index]])"
      ],
      "execution_count": 7,
      "outputs": [
        {
          "output_type": "display_data",
          "data": {
            "image/png": "[encoded data removed]",
            "text/plain": [
              "<Figure size 1440x1440 with 50 Axes>"
            ]
          },
          "metadata": {
            "tags": []
          }
        }
      ]
    },
    {
      "cell_type": "markdown",
      "metadata": {
        "id": "DINinlUyD18y"
      },
      "source": [
        "# Preprocess"
      ]
    },
    {
      "cell_type": "code",
      "metadata": {
        "id": "u1xLZATV6jfF"
      },
      "source": [
        "# Flatten\n",
        "\n",
        "train_images_flatten = train_images.reshape(train_images.shape[0], 784)\n",
        "validation_images_flatten = validation_images.reshape(validation_images.shape[0], 784)\n",
        "test_images_flatten = test_images.reshape(test_images.shape[0], 784)\n",
        "\n"
      ],
      "execution_count": 8,
      "outputs": []
    },
    {
      "cell_type": "code",
      "metadata": {
        "id": "WEP3oGlXD7fr"
      },
      "source": [
        "# Normalize\n",
        "\n",
        "train_images_model = train_images_flatten/255.\n",
        "validation_images_model = validation_images_flatten/255.\n",
        "test_images_model = test_images_flatten / 255."
      ],
      "execution_count": 9,
      "outputs": []
    },
    {
      "cell_type": "code",
      "metadata": {
        "id": "gO3uF89PD6T7"
      },
      "source": [
        "# convert class vectors to binary class matrices\n",
        "train_labels_categ = tf.keras.utils.to_categorical(train_labels, 10)\n",
        "validation_labels_categ = tf.keras.utils.to_categorical(validation_labels, 10)\n",
        "test_labels_categ = tf.keras.utils.to_categorical(test_labels, 10)"
      ],
      "execution_count": 10,
      "outputs": []
    },
    {
      "cell_type": "code",
      "metadata": {
        "colab": {
          "base_uri": "https://localhost:8080/"
        },
        "id": "wvW88Kf6dsRk",
        "outputId": "fb01a5ee-d741-43d0-b9d4-880e3f8fc7c3"
      },
      "source": [
        "train_images_model\n",
        "validation_images_model\n",
        "test_images_model\n",
        "\n",
        "train_labels_categ\n",
        "validation_labels_categ\n",
        "test_labels_categ"
      ],
      "execution_count": 11,
      "outputs": [
        {
          "output_type": "execute_result",
          "data": {
            "text/plain": [
              "array([[0., 0., 0., ..., 0., 0., 1.],\n",
              "       [0., 0., 1., ..., 0., 0., 0.],\n",
              "       [0., 1., 0., ..., 0., 0., 0.],\n",
              "       ...,\n",
              "       [0., 0., 0., ..., 0., 1., 0.],\n",
              "       [0., 1., 0., ..., 0., 0., 0.],\n",
              "       [0., 0., 0., ..., 0., 0., 0.]], dtype=float32)"
            ]
          },
          "metadata": {
            "tags": []
          },
          "execution_count": 11
        }
      ]
    },
    {
      "cell_type": "markdown",
      "metadata": {
        "id": "jAIs5PmSMKIG"
      },
      "source": [
        "# Train"
      ]
    },
    {
      "cell_type": "code",
      "metadata": {
        "id": "P6J6u4eXAqoi"
      },
      "source": [
        "batch_size = 128\n",
        "num_classes = 10\n",
        "epochs = 40\n"
      ],
      "execution_count": 12,
      "outputs": []
    },
    {
      "cell_type": "markdown",
      "metadata": {
        "id": "E0VHAT8gCP5p"
      },
      "source": [
        "##First model :"
      ]
    },
    {
      "cell_type": "code",
      "metadata": {
        "id": "ZbTyjNXHAqfZ"
      },
      "source": [
        "model_1 = Sequential()\n",
        "model_1.add(Dense(units=256, activation=\"relu\"))\n",
        "model_1.add(Dense(units=128, activation=\"relu\"))\n",
        "model_1.add(Dense(units=10, activation=\"relu\"))"
      ],
      "execution_count": 13,
      "outputs": []
    },
    {
      "cell_type": "code",
      "metadata": {
        "id": "xrLkL4FEA2-M"
      },
      "source": [
        "model_1.compile(loss='categorical_crossentropy',\n",
        "                optimizer=RMSprop(),\n",
        "                metrics=['accuracy'])\n",
        "\n"
      ],
      "execution_count": 14,
      "outputs": []
    },
    {
      "cell_type": "code",
      "metadata": {
        "colab": {
          "base_uri": "https://localhost:8080/"
        },
        "id": "5qVaH1JWB7wy",
        "outputId": "33d10e76-9e4b-432f-f538-d63b4268b802"
      },
      "source": [
        "history = model_1.fit(train_images_model, train_labels_categ,\n",
        "                    batch_size=batch_size,\n",
        "                    epochs=epochs,\n",
        "                    verbose=1,\n",
        "                    validation_data=(validation_images_model, validation_labels_categ))"
      ],
      "execution_count": 15,
      "outputs": [
        {
          "output_type": "stream",
          "text": [
            "Epoch 1/40\n",
            "391/391 [==============================] - 26s 9ms/step - loss: nan - accuracy: 0.2803 - val_loss: nan - val_accuracy: 0.1023\n",
            "Epoch 2/40\n",
            "391/391 [==============================] - 3s 8ms/step - loss: nan - accuracy: 0.0994 - val_loss: nan - val_accuracy: 0.1023\n",
            "Epoch 3/40\n",
            "391/391 [==============================] - 3s 8ms/step - loss: nan - accuracy: 0.1008 - val_loss: nan - val_accuracy: 0.1023\n",
            "Epoch 4/40\n",
            "391/391 [==============================] - 3s 8ms/step - loss: nan - accuracy: 0.0988 - val_loss: nan - val_accuracy: 0.1023\n",
            "Epoch 5/40\n",
            "391/391 [==============================] - 3s 8ms/step - loss: nan - accuracy: 0.1011 - val_loss: nan - val_accuracy: 0.1023\n",
            "Epoch 6/40\n",
            "391/391 [==============================] - 3s 8ms/step - loss: nan - accuracy: 0.0982 - val_loss: nan - val_accuracy: 0.1023\n",
            "Epoch 7/40\n",
            "391/391 [==============================] - 3s 8ms/step - loss: nan - accuracy: 0.0996 - val_loss: nan - val_accuracy: 0.1023\n",
            "Epoch 8/40\n",
            "391/391 [==============================] - 3s 8ms/step - loss: nan - accuracy: 0.1005 - val_loss: nan - val_accuracy: 0.1023\n",
            "Epoch 9/40\n",
            "391/391 [==============================] - 3s 8ms/step - loss: nan - accuracy: 0.1023 - val_loss: nan - val_accuracy: 0.1023\n",
            "Epoch 10/40\n",
            "391/391 [==============================] - 3s 8ms/step - loss: nan - accuracy: 0.1002 - val_loss: nan - val_accuracy: 0.1023\n",
            "Epoch 11/40\n",
            "391/391 [==============================] - 3s 8ms/step - loss: nan - accuracy: 0.1012 - val_loss: nan - val_accuracy: 0.1023\n",
            "Epoch 12/40\n",
            "391/391 [==============================] - 3s 8ms/step - loss: nan - accuracy: 0.0991 - val_loss: nan - val_accuracy: 0.1023\n",
            "Epoch 13/40\n",
            "391/391 [==============================] - 3s 8ms/step - loss: nan - accuracy: 0.0988 - val_loss: nan - val_accuracy: 0.1023\n",
            "Epoch 14/40\n",
            "391/391 [==============================] - 3s 7ms/step - loss: nan - accuracy: 0.0992 - val_loss: nan - val_accuracy: 0.1023\n",
            "Epoch 15/40\n",
            "391/391 [==============================] - 3s 8ms/step - loss: nan - accuracy: 0.1009 - val_loss: nan - val_accuracy: 0.1023\n",
            "Epoch 16/40\n",
            "391/391 [==============================] - 3s 8ms/step - loss: nan - accuracy: 0.1013 - val_loss: nan - val_accuracy: 0.1023\n",
            "Epoch 17/40\n",
            "391/391 [==============================] - 3s 8ms/step - loss: nan - accuracy: 0.1004 - val_loss: nan - val_accuracy: 0.1023\n",
            "Epoch 18/40\n",
            "391/391 [==============================] - 3s 8ms/step - loss: nan - accuracy: 0.0995 - val_loss: nan - val_accuracy: 0.1023\n",
            "Epoch 19/40\n",
            "391/391 [==============================] - 3s 8ms/step - loss: nan - accuracy: 0.1011 - val_loss: nan - val_accuracy: 0.1023\n",
            "Epoch 20/40\n",
            "391/391 [==============================] - 3s 7ms/step - loss: nan - accuracy: 0.1004 - val_loss: nan - val_accuracy: 0.1023\n",
            "Epoch 21/40\n",
            "391/391 [==============================] - 3s 8ms/step - loss: nan - accuracy: 0.1005 - val_loss: nan - val_accuracy: 0.1023\n",
            "Epoch 22/40\n",
            "391/391 [==============================] - 3s 8ms/step - loss: nan - accuracy: 0.0999 - val_loss: nan - val_accuracy: 0.1023\n",
            "Epoch 23/40\n",
            "391/391 [==============================] - 3s 8ms/step - loss: nan - accuracy: 0.0981 - val_loss: nan - val_accuracy: 0.1023\n",
            "Epoch 24/40\n",
            "391/391 [==============================] - 3s 8ms/step - loss: nan - accuracy: 0.0991 - val_loss: nan - val_accuracy: 0.1023\n",
            "Epoch 25/40\n",
            "391/391 [==============================] - 3s 8ms/step - loss: nan - accuracy: 0.0994 - val_loss: nan - val_accuracy: 0.1023\n",
            "Epoch 26/40\n",
            "391/391 [==============================] - 3s 8ms/step - loss: nan - accuracy: 0.0998 - val_loss: nan - val_accuracy: 0.1023\n",
            "Epoch 27/40\n",
            "391/391 [==============================] - 3s 7ms/step - loss: nan - accuracy: 0.0999 - val_loss: nan - val_accuracy: 0.1023\n",
            "Epoch 28/40\n",
            "391/391 [==============================] - 3s 8ms/step - loss: nan - accuracy: 0.0977 - val_loss: nan - val_accuracy: 0.1023\n",
            "Epoch 29/40\n",
            "391/391 [==============================] - 3s 8ms/step - loss: nan - accuracy: 0.0979 - val_loss: nan - val_accuracy: 0.1023\n",
            "Epoch 30/40\n",
            "391/391 [==============================] - 3s 8ms/step - loss: nan - accuracy: 0.0997 - val_loss: nan - val_accuracy: 0.1023\n",
            "Epoch 31/40\n",
            "391/391 [==============================] - 3s 7ms/step - loss: nan - accuracy: 0.0989 - val_loss: nan - val_accuracy: 0.1023\n",
            "Epoch 32/40\n",
            "391/391 [==============================] - 3s 8ms/step - loss: nan - accuracy: 0.0988 - val_loss: nan - val_accuracy: 0.1023\n",
            "Epoch 33/40\n",
            "391/391 [==============================] - 3s 8ms/step - loss: nan - accuracy: 0.0991 - val_loss: nan - val_accuracy: 0.1023\n",
            "Epoch 34/40\n",
            "391/391 [==============================] - 3s 8ms/step - loss: nan - accuracy: 0.0970 - val_loss: nan - val_accuracy: 0.1023\n",
            "Epoch 35/40\n",
            "391/391 [==============================] - 3s 8ms/step - loss: nan - accuracy: 0.1027 - val_loss: nan - val_accuracy: 0.1023\n",
            "Epoch 36/40\n",
            "391/391 [==============================] - 3s 8ms/step - loss: nan - accuracy: 0.0991 - val_loss: nan - val_accuracy: 0.1023\n",
            "Epoch 37/40\n",
            "391/391 [==============================] - 3s 8ms/step - loss: nan - accuracy: 0.0971 - val_loss: nan - val_accuracy: 0.1023\n",
            "Epoch 38/40\n",
            "391/391 [==============================] - 3s 8ms/step - loss: nan - accuracy: 0.0969 - val_loss: nan - val_accuracy: 0.1023\n",
            "Epoch 39/40\n",
            "391/391 [==============================] - 3s 8ms/step - loss: nan - accuracy: 0.1011 - val_loss: nan - val_accuracy: 0.1023\n",
            "Epoch 40/40\n",
            "391/391 [==============================] - 3s 8ms/step - loss: nan - accuracy: 0.0966 - val_loss: nan - val_accuracy: 0.1023\n"
          ],
          "name": "stdout"
        }
      ]
    },
    {
      "cell_type": "code",
      "metadata": {
        "colab": {
          "base_uri": "https://localhost:8080/"
        },
        "id": "NsN8320DC0TN",
        "outputId": "df655c99-8d52-4138-bd96-26c0f78ffe4b"
      },
      "source": [
        "model_1.summary()\n"
      ],
      "execution_count": 16,
      "outputs": [
        {
          "output_type": "stream",
          "text": [
            "Model: \"sequential\"\n",
            "_________________________________________________________________\n",
            "Layer (type)                 Output Shape              Param #   \n",
            "=================================================================\n",
            "dense (Dense)                (None, 256)               200960    \n",
            "_________________________________________________________________\n",
            "dense_1 (Dense)              (None, 128)               32896     \n",
            "_________________________________________________________________\n",
            "dense_2 (Dense)              (None, 10)                1290      \n",
            "=================================================================\n",
            "Total params: 235,146\n",
            "Trainable params: 235,146\n",
            "Non-trainable params: 0\n",
            "_________________________________________________________________\n"
          ],
          "name": "stdout"
        }
      ]
    },
    {
      "cell_type": "markdown",
      "metadata": {
        "id": "ah3T2AjNISt7"
      },
      "source": [
        "# Test1"
      ]
    },
    {
      "cell_type": "code",
      "metadata": {
        "colab": {
          "base_uri": "https://localhost:8080/"
        },
        "id": "JzvRaITVHa6S",
        "outputId": "ff8152e3-804e-47df-d1d8-34367e5161b0"
      },
      "source": [
        "score1 = model_1.evaluate(test_images_model, test_labels_categ, verbose=0)\n",
        "# print('Test accuracy:', score[1])\n",
        "print(f'{score1[1]*100:.2f} % Accuracy on the Test set')\n",
        "# You should be able to get,at least, 88% accuracy Test accuracy: 0.8837000131607056"
      ],
      "execution_count": 55,
      "outputs": [
        {
          "output_type": "stream",
          "text": [
            "10.00 % Accuracy on the Test set\n"
          ],
          "name": "stdout"
        }
      ]
    },
    {
      "cell_type": "markdown",
      "metadata": {
        "id": "hJP1bCY0HcsJ"
      },
      "source": [
        "* Well this model with just relu activation function gave me 10% accuraccy, i'll create a second model, by increasing hidden layers and try other activations functions"
      ]
    },
    {
      "cell_type": "markdown",
      "metadata": {
        "id": "cxUkNmwBCXiZ"
      },
      "source": [
        "##Second Model"
      ]
    },
    {
      "cell_type": "code",
      "metadata": {
        "id": "9U7iDxIIFDDI"
      },
      "source": [
        "\n",
        "\n",
        "# Create a sequential model here \n",
        "model_2 = keras.models.Sequential([\n",
        "                                 keras.layers.Flatten(),\n",
        "                                 keras.layers.Dense(units = 128, activation = 'elu'),\n",
        "                                 keras.layers.Dropout(0.25),\n",
        "                                 keras.layers.Dense(units = 256, activation = 'relu'),\n",
        "                                 keras.layers.Dropout(0),\n",
        "                                 keras.layers.Dense(units = 256, activation = 'relu'),\n",
        "                                 keras.layers.Dropout(0.20), \n",
        "                                 keras.layers.Dense(units = 128, activation = 'relu'),\n",
        "                                 keras.layers.Dropout(0.10),\n",
        "                                 keras.layers.Dense(units = 10, activation = 'softmax') \n",
        "                                 ])   \n",
        "# End Code"
      ],
      "execution_count": 18,
      "outputs": []
    },
    {
      "cell_type": "code",
      "metadata": {
        "id": "gduAxXwxF-UQ",
        "colab": {
          "base_uri": "https://localhost:8080/"
        },
        "outputId": "f060dae2-fabb-46e5-db83-ea0ca50ace1f"
      },
      "source": [
        "model_2.compile(loss='categorical_crossentropy',\n",
        "              optimizer=RMSprop(),\n",
        "              metrics=['accuracy'])\n",
        "\n",
        "history = model_2.fit(train_images_model, train_labels_categ,\n",
        "                    batch_size=batch_size,\n",
        "                    epochs=epochs,\n",
        "                    verbose=1,\n",
        "                    validation_data=(validation_images_model, validation_labels_categ))\n"
      ],
      "execution_count": 19,
      "outputs": [
        {
          "output_type": "stream",
          "text": [
            "Epoch 1/40\n",
            "391/391 [==============================] - 8s 12ms/step - loss: 0.8673 - accuracy: 0.6780 - val_loss: 0.4291 - val_accuracy: 0.8372\n",
            "Epoch 2/40\n",
            "391/391 [==============================] - 4s 11ms/step - loss: 0.4628 - accuracy: 0.8288 - val_loss: 0.4278 - val_accuracy: 0.8373\n",
            "Epoch 3/40\n",
            "391/391 [==============================] - 4s 10ms/step - loss: 0.4222 - accuracy: 0.8474 - val_loss: 0.4238 - val_accuracy: 0.8454\n",
            "Epoch 4/40\n",
            "391/391 [==============================] - 4s 10ms/step - loss: 0.3913 - accuracy: 0.8551 - val_loss: 0.4254 - val_accuracy: 0.8429\n",
            "Epoch 5/40\n",
            "391/391 [==============================] - 4s 10ms/step - loss: 0.3684 - accuracy: 0.8647 - val_loss: 0.3901 - val_accuracy: 0.8590\n",
            "Epoch 6/40\n",
            "391/391 [==============================] - 4s 11ms/step - loss: 0.3548 - accuracy: 0.8692 - val_loss: 0.3817 - val_accuracy: 0.8606\n",
            "Epoch 7/40\n",
            "391/391 [==============================] - 4s 10ms/step - loss: 0.3465 - accuracy: 0.8739 - val_loss: 0.3878 - val_accuracy: 0.8641\n",
            "Epoch 8/40\n",
            "391/391 [==============================] - 4s 10ms/step - loss: 0.3360 - accuracy: 0.8781 - val_loss: 0.3478 - val_accuracy: 0.8761\n",
            "Epoch 9/40\n",
            "391/391 [==============================] - 4s 10ms/step - loss: 0.3219 - accuracy: 0.8838 - val_loss: 0.3832 - val_accuracy: 0.8679\n",
            "Epoch 10/40\n",
            "391/391 [==============================] - 4s 10ms/step - loss: 0.3260 - accuracy: 0.8811 - val_loss: 0.3541 - val_accuracy: 0.8750\n",
            "Epoch 11/40\n",
            "391/391 [==============================] - 4s 10ms/step - loss: 0.3273 - accuracy: 0.8840 - val_loss: 0.3262 - val_accuracy: 0.8856\n",
            "Epoch 12/40\n",
            "391/391 [==============================] - 4s 10ms/step - loss: 0.3224 - accuracy: 0.8822 - val_loss: 0.3960 - val_accuracy: 0.8666\n",
            "Epoch 13/40\n",
            "391/391 [==============================] - 4s 10ms/step - loss: 0.3145 - accuracy: 0.8856 - val_loss: 0.3462 - val_accuracy: 0.8809\n",
            "Epoch 14/40\n",
            "391/391 [==============================] - 4s 10ms/step - loss: 0.3151 - accuracy: 0.8841 - val_loss: 0.3825 - val_accuracy: 0.8611\n",
            "Epoch 15/40\n",
            "391/391 [==============================] - 4s 10ms/step - loss: 0.3121 - accuracy: 0.8873 - val_loss: 0.3690 - val_accuracy: 0.8715\n",
            "Epoch 16/40\n",
            "391/391 [==============================] - 4s 10ms/step - loss: 0.3076 - accuracy: 0.8907 - val_loss: 0.3477 - val_accuracy: 0.8816\n",
            "Epoch 17/40\n",
            "391/391 [==============================] - 4s 10ms/step - loss: 0.3130 - accuracy: 0.8891 - val_loss: 0.3477 - val_accuracy: 0.8848\n",
            "Epoch 18/40\n",
            "391/391 [==============================] - 4s 10ms/step - loss: 0.3073 - accuracy: 0.8912 - val_loss: 0.3436 - val_accuracy: 0.8822\n",
            "Epoch 19/40\n",
            "391/391 [==============================] - 4s 11ms/step - loss: 0.3183 - accuracy: 0.8875 - val_loss: 0.3410 - val_accuracy: 0.8909\n",
            "Epoch 20/40\n",
            "391/391 [==============================] - 4s 10ms/step - loss: 0.3071 - accuracy: 0.8904 - val_loss: 0.3574 - val_accuracy: 0.8774\n",
            "Epoch 21/40\n",
            "391/391 [==============================] - 4s 10ms/step - loss: 0.3044 - accuracy: 0.8889 - val_loss: 0.3774 - val_accuracy: 0.8764\n",
            "Epoch 22/40\n",
            "391/391 [==============================] - 4s 10ms/step - loss: 0.3081 - accuracy: 0.8910 - val_loss: 0.3514 - val_accuracy: 0.8883\n",
            "Epoch 23/40\n",
            "391/391 [==============================] - 4s 10ms/step - loss: 0.3087 - accuracy: 0.8939 - val_loss: 0.4193 - val_accuracy: 0.8694\n",
            "Epoch 24/40\n",
            "391/391 [==============================] - 4s 10ms/step - loss: 0.3087 - accuracy: 0.8916 - val_loss: 0.3509 - val_accuracy: 0.8833\n",
            "Epoch 25/40\n",
            "391/391 [==============================] - 4s 10ms/step - loss: 0.3134 - accuracy: 0.8913 - val_loss: 0.3751 - val_accuracy: 0.8797\n",
            "Epoch 26/40\n",
            "391/391 [==============================] - 4s 10ms/step - loss: 0.3104 - accuracy: 0.8905 - val_loss: 0.3522 - val_accuracy: 0.8806\n",
            "Epoch 27/40\n",
            "391/391 [==============================] - 4s 10ms/step - loss: 0.3012 - accuracy: 0.8953 - val_loss: 0.3710 - val_accuracy: 0.8811\n",
            "Epoch 28/40\n",
            "391/391 [==============================] - 4s 10ms/step - loss: 0.3105 - accuracy: 0.8913 - val_loss: 0.3736 - val_accuracy: 0.8822\n",
            "Epoch 29/40\n",
            "391/391 [==============================] - 4s 10ms/step - loss: 0.3052 - accuracy: 0.8936 - val_loss: 0.3674 - val_accuracy: 0.8842\n",
            "Epoch 30/40\n",
            "391/391 [==============================] - 4s 10ms/step - loss: 0.3181 - accuracy: 0.8902 - val_loss: 0.3512 - val_accuracy: 0.8869\n",
            "Epoch 31/40\n",
            "391/391 [==============================] - 4s 10ms/step - loss: 0.3060 - accuracy: 0.8963 - val_loss: 0.3850 - val_accuracy: 0.8826\n",
            "Epoch 32/40\n",
            "391/391 [==============================] - 4s 10ms/step - loss: 0.3066 - accuracy: 0.8937 - val_loss: 0.3389 - val_accuracy: 0.8926\n",
            "Epoch 33/40\n",
            "391/391 [==============================] - 4s 10ms/step - loss: 0.3051 - accuracy: 0.8938 - val_loss: 0.3585 - val_accuracy: 0.8853\n",
            "Epoch 34/40\n",
            "391/391 [==============================] - 4s 10ms/step - loss: 0.3155 - accuracy: 0.8942 - val_loss: 0.3510 - val_accuracy: 0.8897\n",
            "Epoch 35/40\n",
            "391/391 [==============================] - 4s 10ms/step - loss: 0.3066 - accuracy: 0.8941 - val_loss: 0.3582 - val_accuracy: 0.8821\n",
            "Epoch 36/40\n",
            "391/391 [==============================] - 4s 10ms/step - loss: 0.3017 - accuracy: 0.8941 - val_loss: 0.4010 - val_accuracy: 0.8869\n",
            "Epoch 37/40\n",
            "391/391 [==============================] - 4s 10ms/step - loss: 0.3072 - accuracy: 0.8934 - val_loss: 0.3713 - val_accuracy: 0.8861\n",
            "Epoch 38/40\n",
            "391/391 [==============================] - 4s 10ms/step - loss: 0.3046 - accuracy: 0.8973 - val_loss: 0.3977 - val_accuracy: 0.8856\n",
            "Epoch 39/40\n",
            "391/391 [==============================] - 4s 10ms/step - loss: 0.3035 - accuracy: 0.8967 - val_loss: 0.3693 - val_accuracy: 0.8830\n",
            "Epoch 40/40\n",
            "391/391 [==============================] - 4s 10ms/step - loss: 0.3015 - accuracy: 0.8962 - val_loss: 0.3722 - val_accuracy: 0.8858\n"
          ],
          "name": "stdout"
        }
      ]
    },
    {
      "cell_type": "markdown",
      "metadata": {
        "id": "83c8_iVyMHLe"
      },
      "source": [
        "# Test2"
      ]
    },
    {
      "cell_type": "code",
      "metadata": {
        "colab": {
          "base_uri": "https://localhost:8080/"
        },
        "id": "TeeD-StiBZR8",
        "outputId": "53e33f43-1a03-4bea-aabb-8fa1091a8d40"
      },
      "source": [
        "score2 = model_2.evaluate(test_images_model, test_labels_categ, verbose=0)\n",
        "# print('Test accuracy:', score[1])\n",
        "print(f'{score2[1]*100:.2f} % Accuracy on the Test set')\n",
        "# You should be able to get,at least, 88% accuracy Test accuracy: 0.8837000131607056"
      ],
      "execution_count": 57,
      "outputs": [
        {
          "output_type": "stream",
          "text": [
            "88.47 % Accuracy on the Test set\n"
          ],
          "name": "stdout"
        }
      ]
    },
    {
      "cell_type": "code",
      "metadata": {
        "colab": {
          "base_uri": "https://localhost:8080/"
        },
        "id": "onA4sgw2BcbP",
        "outputId": "d99f6b89-8043-4805-bd92-0f74ec973b8d"
      },
      "source": [
        "print('Loss: {:.2f}'.format(score2[0]))"
      ],
      "execution_count": 58,
      "outputs": [
        {
          "output_type": "stream",
          "text": [
            "Loss: 0.44\n"
          ],
          "name": "stdout"
        }
      ]
    },
    {
      "cell_type": "markdown",
      "metadata": {
        "id": "HePMe8Es1alL"
      },
      "source": [
        "##Experimenent 2"
      ]
    },
    {
      "cell_type": "markdown",
      "metadata": {
        "id": "GfiH2z4DCg4o"
      },
      "source": [
        "##Third Model:"
      ]
    },
    {
      "cell_type": "code",
      "metadata": {
        "id": "G5ZB3xkL1UaA"
      },
      "source": [
        "output_dim = 10\n",
        "input_dim = train_images_model.shape[1]\n",
        "\n",
        "batch_size = 128 \n",
        "nb_epoch = 40"
      ],
      "execution_count": 22,
      "outputs": []
    },
    {
      "cell_type": "code",
      "metadata": {
        "colab": {
          "base_uri": "https://localhost:8080/"
        },
        "id": "ZPkXNdhB16Ag",
        "outputId": "a54d583c-cfa3-403e-c3c7-23c435dfe42e"
      },
      "source": [
        "from keras.initializers import RandomNormal\n",
        "model_3 = Sequential()\n",
        "model_3.add(Dense(1024, activation='relu', input_shape=(input_dim,), kernel_initializer=RandomNormal(mean=0.0, stddev=0.05, seed=None)))\n",
        "model_3.add(Dense(512, activation='relu', kernel_initializer=RandomNormal(mean=0.0, stddev=0.125, seed=None)) )\n",
        "model_3.add(Dense(output_dim, activation='softmax'))\n",
        "\n",
        "print(model_3.summary())"
      ],
      "execution_count": 23,
      "outputs": [
        {
          "output_type": "stream",
          "text": [
            "Model: \"sequential_2\"\n",
            "_________________________________________________________________\n",
            "Layer (type)                 Output Shape              Param #   \n",
            "=================================================================\n",
            "dense_8 (Dense)              (None, 1024)              803840    \n",
            "_________________________________________________________________\n",
            "dense_9 (Dense)              (None, 512)               524800    \n",
            "_________________________________________________________________\n",
            "dense_10 (Dense)             (None, 10)                5130      \n",
            "=================================================================\n",
            "Total params: 1,333,770\n",
            "Trainable params: 1,333,770\n",
            "Non-trainable params: 0\n",
            "_________________________________________________________________\n",
            "None\n"
          ],
          "name": "stdout"
        }
      ]
    },
    {
      "cell_type": "code",
      "metadata": {
        "colab": {
          "base_uri": "https://localhost:8080/"
        },
        "id": "qxZBCV1i2XE1",
        "outputId": "8727784a-f258-4d2d-caa1-32259464f6cc"
      },
      "source": [
        "model_3.compile(optimizer='adam', loss='categorical_crossentropy', metrics=['accuracy'])\n",
        "\n",
        "history = model_3.fit(train_images_model, train_labels_categ, \n",
        "                      batch_size=batch_size, \n",
        "                      epochs=nb_epoch, \n",
        "                      verbose=1, \n",
        "                      validation_data=(validation_images_model, validation_labels_categ))"
      ],
      "execution_count": 24,
      "outputs": [
        {
          "output_type": "stream",
          "text": [
            "Epoch 1/40\n",
            "391/391 [==============================] - 11s 27ms/step - loss: 0.7362 - accuracy: 0.7650 - val_loss: 0.3847 - val_accuracy: 0.8593\n",
            "Epoch 2/40\n",
            "391/391 [==============================] - 10s 26ms/step - loss: 0.3642 - accuracy: 0.8681 - val_loss: 0.3621 - val_accuracy: 0.8689\n",
            "Epoch 3/40\n",
            "391/391 [==============================] - 10s 26ms/step - loss: 0.3194 - accuracy: 0.8831 - val_loss: 0.3921 - val_accuracy: 0.8566\n",
            "Epoch 4/40\n",
            "391/391 [==============================] - 10s 26ms/step - loss: 0.3004 - accuracy: 0.8878 - val_loss: 0.3228 - val_accuracy: 0.8839\n",
            "Epoch 5/40\n",
            "391/391 [==============================] - 10s 26ms/step - loss: 0.2742 - accuracy: 0.8959 - val_loss: 0.3312 - val_accuracy: 0.8833\n",
            "Epoch 6/40\n",
            "391/391 [==============================] - 10s 26ms/step - loss: 0.2619 - accuracy: 0.9028 - val_loss: 0.3454 - val_accuracy: 0.8780\n",
            "Epoch 7/40\n",
            "391/391 [==============================] - 10s 26ms/step - loss: 0.2467 - accuracy: 0.9088 - val_loss: 0.3180 - val_accuracy: 0.8829\n",
            "Epoch 8/40\n",
            "391/391 [==============================] - 10s 26ms/step - loss: 0.2281 - accuracy: 0.9127 - val_loss: 0.3527 - val_accuracy: 0.8726\n",
            "Epoch 9/40\n",
            "391/391 [==============================] - 10s 26ms/step - loss: 0.2206 - accuracy: 0.9187 - val_loss: 0.3138 - val_accuracy: 0.8874\n",
            "Epoch 10/40\n",
            "391/391 [==============================] - 10s 26ms/step - loss: 0.2097 - accuracy: 0.9207 - val_loss: 0.3028 - val_accuracy: 0.8917\n",
            "Epoch 11/40\n",
            "391/391 [==============================] - 10s 26ms/step - loss: 0.2033 - accuracy: 0.9232 - val_loss: 0.3331 - val_accuracy: 0.8896\n",
            "Epoch 12/40\n",
            "391/391 [==============================] - 10s 26ms/step - loss: 0.1958 - accuracy: 0.9247 - val_loss: 0.3479 - val_accuracy: 0.8859\n",
            "Epoch 13/40\n",
            "391/391 [==============================] - 10s 26ms/step - loss: 0.1818 - accuracy: 0.9315 - val_loss: 0.3270 - val_accuracy: 0.8903\n",
            "Epoch 14/40\n",
            "391/391 [==============================] - 10s 26ms/step - loss: 0.1846 - accuracy: 0.9298 - val_loss: 0.3326 - val_accuracy: 0.8898\n",
            "Epoch 15/40\n",
            "391/391 [==============================] - 10s 26ms/step - loss: 0.1722 - accuracy: 0.9360 - val_loss: 0.3352 - val_accuracy: 0.8908\n",
            "Epoch 16/40\n",
            "391/391 [==============================] - 10s 26ms/step - loss: 0.1719 - accuracy: 0.9347 - val_loss: 0.3200 - val_accuracy: 0.8935\n",
            "Epoch 17/40\n",
            "391/391 [==============================] - 10s 26ms/step - loss: 0.1597 - accuracy: 0.9400 - val_loss: 0.3555 - val_accuracy: 0.8850\n",
            "Epoch 18/40\n",
            "391/391 [==============================] - 10s 26ms/step - loss: 0.1494 - accuracy: 0.9429 - val_loss: 0.3274 - val_accuracy: 0.8962\n",
            "Epoch 19/40\n",
            "391/391 [==============================] - 10s 26ms/step - loss: 0.1427 - accuracy: 0.9453 - val_loss: 0.3672 - val_accuracy: 0.8888\n",
            "Epoch 20/40\n",
            "391/391 [==============================] - 10s 26ms/step - loss: 0.1409 - accuracy: 0.9448 - val_loss: 0.3343 - val_accuracy: 0.8986\n",
            "Epoch 21/40\n",
            "391/391 [==============================] - 10s 26ms/step - loss: 0.1332 - accuracy: 0.9484 - val_loss: 0.3609 - val_accuracy: 0.8944\n",
            "Epoch 22/40\n",
            "391/391 [==============================] - 10s 26ms/step - loss: 0.1328 - accuracy: 0.9507 - val_loss: 0.3830 - val_accuracy: 0.8860\n",
            "Epoch 23/40\n",
            "391/391 [==============================] - 10s 26ms/step - loss: 0.1276 - accuracy: 0.9516 - val_loss: 0.3783 - val_accuracy: 0.8951\n",
            "Epoch 24/40\n",
            "391/391 [==============================] - 10s 26ms/step - loss: 0.1248 - accuracy: 0.9530 - val_loss: 0.4245 - val_accuracy: 0.8887\n",
            "Epoch 25/40\n",
            "391/391 [==============================] - 10s 26ms/step - loss: 0.1195 - accuracy: 0.9559 - val_loss: 0.3669 - val_accuracy: 0.8979\n",
            "Epoch 26/40\n",
            "391/391 [==============================] - 10s 26ms/step - loss: 0.1099 - accuracy: 0.9589 - val_loss: 0.3904 - val_accuracy: 0.8899\n",
            "Epoch 27/40\n",
            "391/391 [==============================] - 10s 26ms/step - loss: 0.1040 - accuracy: 0.9602 - val_loss: 0.4016 - val_accuracy: 0.8925\n",
            "Epoch 28/40\n",
            "391/391 [==============================] - 10s 26ms/step - loss: 0.1057 - accuracy: 0.9601 - val_loss: 0.3929 - val_accuracy: 0.8954\n",
            "Epoch 29/40\n",
            "391/391 [==============================] - 10s 27ms/step - loss: 0.0937 - accuracy: 0.9648 - val_loss: 0.4257 - val_accuracy: 0.8952\n",
            "Epoch 30/40\n",
            "391/391 [==============================] - 10s 26ms/step - loss: 0.0963 - accuracy: 0.9622 - val_loss: 0.4443 - val_accuracy: 0.8948\n",
            "Epoch 31/40\n",
            "391/391 [==============================] - 10s 26ms/step - loss: 0.0961 - accuracy: 0.9641 - val_loss: 0.4287 - val_accuracy: 0.8942\n",
            "Epoch 32/40\n",
            "391/391 [==============================] - 10s 26ms/step - loss: 0.0868 - accuracy: 0.9672 - val_loss: 0.4444 - val_accuracy: 0.8907\n",
            "Epoch 33/40\n",
            "391/391 [==============================] - 10s 26ms/step - loss: 0.0867 - accuracy: 0.9664 - val_loss: 0.4447 - val_accuracy: 0.8945\n",
            "Epoch 34/40\n",
            "391/391 [==============================] - 10s 26ms/step - loss: 0.0795 - accuracy: 0.9706 - val_loss: 0.4649 - val_accuracy: 0.8962\n",
            "Epoch 35/40\n",
            "391/391 [==============================] - 10s 26ms/step - loss: 0.0815 - accuracy: 0.9684 - val_loss: 0.4513 - val_accuracy: 0.8945\n",
            "Epoch 36/40\n",
            "391/391 [==============================] - 10s 26ms/step - loss: 0.0731 - accuracy: 0.9711 - val_loss: 0.4986 - val_accuracy: 0.8917\n",
            "Epoch 37/40\n",
            "391/391 [==============================] - 10s 26ms/step - loss: 0.0680 - accuracy: 0.9745 - val_loss: 0.4866 - val_accuracy: 0.8928\n",
            "Epoch 38/40\n",
            "391/391 [==============================] - 10s 26ms/step - loss: 0.0742 - accuracy: 0.9723 - val_loss: 0.4991 - val_accuracy: 0.8855\n",
            "Epoch 39/40\n",
            "391/391 [==============================] - 10s 26ms/step - loss: 0.0679 - accuracy: 0.9741 - val_loss: 0.4636 - val_accuracy: 0.8968\n",
            "Epoch 40/40\n",
            "391/391 [==============================] - 10s 26ms/step - loss: 0.0684 - accuracy: 0.9733 - val_loss: 0.5442 - val_accuracy: 0.8897\n"
          ],
          "name": "stdout"
        }
      ]
    },
    {
      "cell_type": "code",
      "metadata": {
        "colab": {
          "base_uri": "https://localhost:8080/"
        },
        "id": "muZ79glk3x8k",
        "outputId": "52254323-8747-4a4e-dd32-c1a6a233d94f"
      },
      "source": [
        "score3 = model_3.evaluate(test_images_model, test_labels_categ, verbose=0)\n",
        "# print('Test accuracy:', score[1])\n",
        "print(f'{score3[1]*100:.2f} % Accuracy on the Test set')\n",
        "# You should be able to get,at least, 88% accuracy Test accuracy: 0.8837000131607056"
      ],
      "execution_count": 59,
      "outputs": [
        {
          "output_type": "stream",
          "text": [
            "88.73 % Accuracy on the Test set\n"
          ],
          "name": "stdout"
        }
      ]
    },
    {
      "cell_type": "code",
      "metadata": {
        "colab": {
          "base_uri": "https://localhost:8080/"
        },
        "id": "zteR2vhe5Xns",
        "outputId": "a7e920ba-dd81-45a9-a6a4-f90062c0d054"
      },
      "source": [
        "print('Loss: {:.2f}'.format(score3[0]))"
      ],
      "execution_count": 60,
      "outputs": [
        {
          "output_type": "stream",
          "text": [
            "Loss: 0.57\n"
          ],
          "name": "stdout"
        }
      ]
    },
    {
      "cell_type": "markdown",
      "metadata": {
        "id": "vH1PlCfKV6hj"
      },
      "source": [
        "`Note`: good accuraccy $\\approx$ $88.7$% but the loss is high then the model 2 and we want to reduce the loss "
      ]
    },
    {
      "cell_type": "markdown",
      "metadata": {
        "id": "d5lamFTP4Hrl"
      },
      "source": [
        "##Experiment 3"
      ]
    },
    {
      "cell_type": "markdown",
      "metadata": {
        "id": "o9oBcGPGClSZ"
      },
      "source": [
        "##Forth Model"
      ]
    },
    {
      "cell_type": "code",
      "metadata": {
        "colab": {
          "base_uri": "https://localhost:8080/"
        },
        "id": "P92GUH-k4Jc1",
        "outputId": "8263cb20-312a-4b08-9203-6766fc6ba51a"
      },
      "source": [
        "model_4 = Sequential()\n",
        "model_4.add(Dense(256, activation='relu', \n",
        "                  input_shape=(input_dim,), \n",
        "                  kernel_initializer= RandomNormal(mean=0.0, stddev=0.062, seed=None)))\n",
        "\n",
        "model_4.add(Dense(128, activation='relu', \n",
        "                  kernel_initializer= RandomNormal(mean=0.0, stddev=0.125, seed=None)) )\n",
        "model_4.add(Dense(output_dim, activation='softmax'))\n",
        "\n",
        "print(model_4.summary())"
      ],
      "execution_count": 27,
      "outputs": [
        {
          "output_type": "stream",
          "text": [
            "Model: \"sequential_3\"\n",
            "_________________________________________________________________\n",
            "Layer (type)                 Output Shape              Param #   \n",
            "=================================================================\n",
            "dense_11 (Dense)             (None, 256)               200960    \n",
            "_________________________________________________________________\n",
            "dense_12 (Dense)             (None, 128)               32896     \n",
            "_________________________________________________________________\n",
            "dense_13 (Dense)             (None, 10)                1290      \n",
            "=================================================================\n",
            "Total params: 235,146\n",
            "Trainable params: 235,146\n",
            "Non-trainable params: 0\n",
            "_________________________________________________________________\n",
            "None\n"
          ],
          "name": "stdout"
        }
      ]
    },
    {
      "cell_type": "code",
      "metadata": {
        "colab": {
          "base_uri": "https://localhost:8080/"
        },
        "id": "s8IhM99t4JZx",
        "outputId": "d17d793d-1cee-4021-e49b-76e8fe23eb92"
      },
      "source": [
        "model_4.compile(optimizer = 'adam', \n",
        "                loss = 'categorical_crossentropy', \n",
        "                metrics = ['accuracy'])\n",
        "\n",
        "history = model_4.fit(train_images_model, train_labels_categ, \n",
        "                      batch_size= batch_size, \n",
        "                      epochs= nb_epoch, \n",
        "                      verbose= 1, \n",
        "                      validation_data=(validation_images_model, validation_labels_categ))"
      ],
      "execution_count": 28,
      "outputs": [
        {
          "output_type": "stream",
          "text": [
            "Epoch 1/40\n",
            "391/391 [==============================] - 4s 7ms/step - loss: 0.6938 - accuracy: 0.7535 - val_loss: 0.4185 - val_accuracy: 0.8466\n",
            "Epoch 2/40\n",
            "391/391 [==============================] - 3s 6ms/step - loss: 0.3860 - accuracy: 0.8601 - val_loss: 0.3628 - val_accuracy: 0.8678\n",
            "Epoch 3/40\n",
            "391/391 [==============================] - 3s 6ms/step - loss: 0.3337 - accuracy: 0.8795 - val_loss: 0.3649 - val_accuracy: 0.8698\n",
            "Epoch 4/40\n",
            "391/391 [==============================] - 2s 6ms/step - loss: 0.3085 - accuracy: 0.8863 - val_loss: 0.3491 - val_accuracy: 0.8725\n",
            "Epoch 5/40\n",
            "391/391 [==============================] - 3s 6ms/step - loss: 0.2834 - accuracy: 0.8966 - val_loss: 0.3233 - val_accuracy: 0.8817\n",
            "Epoch 6/40\n",
            "391/391 [==============================] - 3s 6ms/step - loss: 0.2725 - accuracy: 0.9008 - val_loss: 0.3150 - val_accuracy: 0.8862\n",
            "Epoch 7/40\n",
            "391/391 [==============================] - 3s 6ms/step - loss: 0.2526 - accuracy: 0.9059 - val_loss: 0.3224 - val_accuracy: 0.8815\n",
            "Epoch 8/40\n",
            "391/391 [==============================] - 2s 6ms/step - loss: 0.2434 - accuracy: 0.9096 - val_loss: 0.3313 - val_accuracy: 0.8853\n",
            "Epoch 9/40\n",
            "391/391 [==============================] - 2s 6ms/step - loss: 0.2356 - accuracy: 0.9121 - val_loss: 0.3171 - val_accuracy: 0.8883\n",
            "Epoch 10/40\n",
            "391/391 [==============================] - 2s 6ms/step - loss: 0.2182 - accuracy: 0.9198 - val_loss: 0.3348 - val_accuracy: 0.8874\n",
            "Epoch 11/40\n",
            "391/391 [==============================] - 2s 6ms/step - loss: 0.2109 - accuracy: 0.9205 - val_loss: 0.3363 - val_accuracy: 0.8793\n",
            "Epoch 12/40\n",
            "391/391 [==============================] - 3s 6ms/step - loss: 0.2100 - accuracy: 0.9210 - val_loss: 0.3299 - val_accuracy: 0.8861\n",
            "Epoch 13/40\n",
            "391/391 [==============================] - 3s 7ms/step - loss: 0.1936 - accuracy: 0.9289 - val_loss: 0.3365 - val_accuracy: 0.8788\n",
            "Epoch 14/40\n",
            "391/391 [==============================] - 3s 7ms/step - loss: 0.1911 - accuracy: 0.9283 - val_loss: 0.3169 - val_accuracy: 0.8885\n",
            "Epoch 15/40\n",
            "391/391 [==============================] - 2s 6ms/step - loss: 0.1802 - accuracy: 0.9321 - val_loss: 0.3263 - val_accuracy: 0.8915\n",
            "Epoch 16/40\n",
            "391/391 [==============================] - 2s 6ms/step - loss: 0.1736 - accuracy: 0.9360 - val_loss: 0.3460 - val_accuracy: 0.8895\n",
            "Epoch 17/40\n",
            "391/391 [==============================] - 2s 6ms/step - loss: 0.1740 - accuracy: 0.9337 - val_loss: 0.3362 - val_accuracy: 0.8948\n",
            "Epoch 18/40\n",
            "391/391 [==============================] - 2s 6ms/step - loss: 0.1672 - accuracy: 0.9367 - val_loss: 0.3411 - val_accuracy: 0.8908\n",
            "Epoch 19/40\n",
            "391/391 [==============================] - 3s 6ms/step - loss: 0.1608 - accuracy: 0.9393 - val_loss: 0.3392 - val_accuracy: 0.8910\n",
            "Epoch 20/40\n",
            "391/391 [==============================] - 2s 6ms/step - loss: 0.1521 - accuracy: 0.9422 - val_loss: 0.3607 - val_accuracy: 0.8903\n",
            "Epoch 21/40\n",
            "391/391 [==============================] - 2s 6ms/step - loss: 0.1452 - accuracy: 0.9467 - val_loss: 0.3691 - val_accuracy: 0.8883\n",
            "Epoch 22/40\n",
            "391/391 [==============================] - 2s 6ms/step - loss: 0.1475 - accuracy: 0.9457 - val_loss: 0.3562 - val_accuracy: 0.8897\n",
            "Epoch 23/40\n",
            "391/391 [==============================] - 2s 6ms/step - loss: 0.1351 - accuracy: 0.9490 - val_loss: 0.3517 - val_accuracy: 0.8895\n",
            "Epoch 24/40\n",
            "391/391 [==============================] - 3s 7ms/step - loss: 0.1317 - accuracy: 0.9491 - val_loss: 0.3626 - val_accuracy: 0.8912\n",
            "Epoch 25/40\n",
            "391/391 [==============================] - 3s 7ms/step - loss: 0.1286 - accuracy: 0.9504 - val_loss: 0.3588 - val_accuracy: 0.8941\n",
            "Epoch 26/40\n",
            "391/391 [==============================] - 3s 7ms/step - loss: 0.1263 - accuracy: 0.9521 - val_loss: 0.3748 - val_accuracy: 0.8929\n",
            "Epoch 27/40\n",
            "391/391 [==============================] - 3s 7ms/step - loss: 0.1185 - accuracy: 0.9546 - val_loss: 0.4112 - val_accuracy: 0.8875\n",
            "Epoch 28/40\n",
            "391/391 [==============================] - 3s 7ms/step - loss: 0.1150 - accuracy: 0.9575 - val_loss: 0.4062 - val_accuracy: 0.8883\n",
            "Epoch 29/40\n",
            "391/391 [==============================] - 3s 7ms/step - loss: 0.1122 - accuracy: 0.9582 - val_loss: 0.4124 - val_accuracy: 0.8880\n",
            "Epoch 30/40\n",
            "391/391 [==============================] - 2s 6ms/step - loss: 0.1051 - accuracy: 0.9608 - val_loss: 0.4038 - val_accuracy: 0.8902\n",
            "Epoch 31/40\n",
            "391/391 [==============================] - 3s 7ms/step - loss: 0.1072 - accuracy: 0.9585 - val_loss: 0.4358 - val_accuracy: 0.8938\n",
            "Epoch 32/40\n",
            "391/391 [==============================] - 3s 7ms/step - loss: 0.0949 - accuracy: 0.9643 - val_loss: 0.4038 - val_accuracy: 0.8939\n",
            "Epoch 33/40\n",
            "391/391 [==============================] - 2s 6ms/step - loss: 0.0911 - accuracy: 0.9657 - val_loss: 0.4166 - val_accuracy: 0.8945\n",
            "Epoch 34/40\n",
            "391/391 [==============================] - 3s 6ms/step - loss: 0.0967 - accuracy: 0.9629 - val_loss: 0.4212 - val_accuracy: 0.8889\n",
            "Epoch 35/40\n",
            "391/391 [==============================] - 3s 7ms/step - loss: 0.0940 - accuracy: 0.9648 - val_loss: 0.4267 - val_accuracy: 0.8938\n",
            "Epoch 36/40\n",
            "391/391 [==============================] - 2s 6ms/step - loss: 0.0877 - accuracy: 0.9667 - val_loss: 0.4385 - val_accuracy: 0.8905\n",
            "Epoch 37/40\n",
            "391/391 [==============================] - 2s 6ms/step - loss: 0.0812 - accuracy: 0.9696 - val_loss: 0.4274 - val_accuracy: 0.8940\n",
            "Epoch 38/40\n",
            "391/391 [==============================] - 3s 7ms/step - loss: 0.0796 - accuracy: 0.9690 - val_loss: 0.4572 - val_accuracy: 0.8918\n",
            "Epoch 39/40\n",
            "391/391 [==============================] - 3s 7ms/step - loss: 0.0943 - accuracy: 0.9649 - val_loss: 0.5046 - val_accuracy: 0.8859\n",
            "Epoch 40/40\n",
            "391/391 [==============================] - 2s 6ms/step - loss: 0.0824 - accuracy: 0.9674 - val_loss: 0.4895 - val_accuracy: 0.8934\n"
          ],
          "name": "stdout"
        }
      ]
    },
    {
      "cell_type": "code",
      "metadata": {
        "colab": {
          "base_uri": "https://localhost:8080/"
        },
        "id": "jwNVrAbt4JXG",
        "outputId": "93450230-c7e4-4267-85e3-9cf9e42e9215"
      },
      "source": [
        "score4 = model_4.evaluate(test_images_model, test_labels_categ, verbose=0)\n",
        "# print('Test accuracy:', score[1])\n",
        "print(f'{score4[1]*100:.2f} % Accuracy on the Test set')\n",
        "# You should be able to get,at least, 88% accuracy Test accuracy: 0.8837000131607056"
      ],
      "execution_count": 62,
      "outputs": [
        {
          "output_type": "stream",
          "text": [
            "89.45 % Accuracy on the Test set\n"
          ],
          "name": "stdout"
        }
      ]
    },
    {
      "cell_type": "code",
      "metadata": {
        "colab": {
          "base_uri": "https://localhost:8080/"
        },
        "id": "VgPOjpKn5dTB",
        "outputId": "e76fec1f-4b4b-45f4-f3e2-a78ea5415dad"
      },
      "source": [
        "print('Loss: {:.2f}'.format(score4[0]))"
      ],
      "execution_count": 63,
      "outputs": [
        {
          "output_type": "stream",
          "text": [
            "Loss: 0.50\n"
          ],
          "name": "stdout"
        }
      ]
    },
    {
      "cell_type": "markdown",
      "metadata": {
        "id": "Hlx1wkffW56O"
      },
      "source": [
        "`Note`: Also good accuracy and loss is less then the model 3 but still high "
      ]
    },
    {
      "cell_type": "markdown",
      "metadata": {
        "id": "uMBdxcQKLO45"
      },
      "source": [
        "#other model with updating learning rate"
      ]
    },
    {
      "cell_type": "code",
      "metadata": {
        "id": "SrgPewXxLOPF"
      },
      "source": [
        "model_n = Sequential()\n",
        "\n",
        "model_n.add(Dense(512, activation='relu'))\n",
        "\n",
        "model_n.add(Dropout(0.5))\n",
        "model_n.add(Dense(128, activation='relu'))\n",
        "\n",
        "model_n.add(Dropout(0.5))\n",
        "model_n.add(Dense(10, activation='softmax'))"
      ],
      "execution_count": 31,
      "outputs": []
    },
    {
      "cell_type": "code",
      "metadata": {
        "id": "-_aIMzH_Su26"
      },
      "source": [
        "from keras.optimizers import Adam"
      ],
      "execution_count": 34,
      "outputs": []
    },
    {
      "cell_type": "code",
      "metadata": {
        "id": "FhzhrudoNloC"
      },
      "source": [
        "# Optimizer\n",
        "optimizer = Adam(learning_rate=0.001, \n",
        "                 beta_1=0.9, \n",
        "                 beta_2=0.999 )"
      ],
      "execution_count": 35,
      "outputs": []
    },
    {
      "cell_type": "code",
      "metadata": {
        "id": "ys2LB-wrNxWA"
      },
      "source": [
        "# Compiling the model\n",
        "model_n.compile(optimizer=optimizer, \n",
        "                loss=\"categorical_crossentropy\", \n",
        "                metrics=[\"accuracy\"])"
      ],
      "execution_count": 37,
      "outputs": []
    },
    {
      "cell_type": "code",
      "metadata": {
        "id": "9296ch5wTiaj"
      },
      "source": [
        "from keras.callbacks import LearningRateScheduler\n",
        "reduce_lr = LearningRateScheduler(lambda x: 1e-3 * 0.9 ** x)\n",
        "# this update learning rate at every epoch stage"
      ],
      "execution_count": 42,
      "outputs": []
    },
    {
      "cell_type": "code",
      "metadata": {
        "colab": {
          "base_uri": "https://localhost:8080/"
        },
        "id": "23hvogTPTIMl",
        "outputId": "76e06202-619a-4116-b7d9-029e6668ff27"
      },
      "source": [
        "history = model_n.fit(train_images_model, train_labels_categ, \n",
        "                      batch_size=128, \n",
        "                      epochs= 40, \n",
        "                      verbose= 2, \n",
        "                      validation_data=(validation_images_model, validation_labels_categ),\n",
        "                      callbacks = [reduce_lr])"
      ],
      "execution_count": 43,
      "outputs": [
        {
          "output_type": "stream",
          "text": [
            "Epoch 1/40\n",
            "391/391 - 5s - loss: 0.7263 - accuracy: 0.7426 - val_loss: 0.4580 - val_accuracy: 0.8303\n",
            "Epoch 2/40\n",
            "391/391 - 4s - loss: 0.4915 - accuracy: 0.8237 - val_loss: 0.3994 - val_accuracy: 0.8572\n",
            "Epoch 3/40\n",
            "391/391 - 4s - loss: 0.4396 - accuracy: 0.8424 - val_loss: 0.3775 - val_accuracy: 0.8654\n",
            "Epoch 4/40\n",
            "391/391 - 4s - loss: 0.4146 - accuracy: 0.8520 - val_loss: 0.3587 - val_accuracy: 0.8716\n",
            "Epoch 5/40\n",
            "391/391 - 4s - loss: 0.3904 - accuracy: 0.8591 - val_loss: 0.3474 - val_accuracy: 0.8708\n",
            "Epoch 6/40\n",
            "391/391 - 4s - loss: 0.3775 - accuracy: 0.8646 - val_loss: 0.3529 - val_accuracy: 0.8702\n",
            "Epoch 7/40\n",
            "391/391 - 4s - loss: 0.3627 - accuracy: 0.8701 - val_loss: 0.3345 - val_accuracy: 0.8788\n",
            "Epoch 8/40\n",
            "391/391 - 4s - loss: 0.3478 - accuracy: 0.8730 - val_loss: 0.3268 - val_accuracy: 0.8827\n",
            "Epoch 9/40\n",
            "391/391 - 4s - loss: 0.3415 - accuracy: 0.8756 - val_loss: 0.3258 - val_accuracy: 0.8819\n",
            "Epoch 10/40\n",
            "391/391 - 4s - loss: 0.3297 - accuracy: 0.8816 - val_loss: 0.3147 - val_accuracy: 0.8868\n",
            "Epoch 11/40\n",
            "391/391 - 4s - loss: 0.3232 - accuracy: 0.8828 - val_loss: 0.3168 - val_accuracy: 0.8826\n",
            "Epoch 12/40\n",
            "391/391 - 4s - loss: 0.3153 - accuracy: 0.8859 - val_loss: 0.3108 - val_accuracy: 0.8878\n",
            "Epoch 13/40\n",
            "391/391 - 4s - loss: 0.3063 - accuracy: 0.8884 - val_loss: 0.3096 - val_accuracy: 0.8887\n",
            "Epoch 14/40\n",
            "391/391 - 4s - loss: 0.3017 - accuracy: 0.8898 - val_loss: 0.3068 - val_accuracy: 0.8909\n",
            "Epoch 15/40\n",
            "391/391 - 4s - loss: 0.2971 - accuracy: 0.8919 - val_loss: 0.3076 - val_accuracy: 0.8884\n",
            "Epoch 16/40\n",
            "391/391 - 4s - loss: 0.2875 - accuracy: 0.8951 - val_loss: 0.3056 - val_accuracy: 0.8897\n",
            "Epoch 17/40\n",
            "391/391 - 4s - loss: 0.2852 - accuracy: 0.8954 - val_loss: 0.3034 - val_accuracy: 0.8916\n",
            "Epoch 18/40\n",
            "391/391 - 4s - loss: 0.2816 - accuracy: 0.8958 - val_loss: 0.3067 - val_accuracy: 0.8900\n",
            "Epoch 19/40\n",
            "391/391 - 4s - loss: 0.2789 - accuracy: 0.8980 - val_loss: 0.3009 - val_accuracy: 0.8909\n",
            "Epoch 20/40\n",
            "391/391 - 4s - loss: 0.2747 - accuracy: 0.8996 - val_loss: 0.3002 - val_accuracy: 0.8906\n",
            "Epoch 21/40\n",
            "391/391 - 4s - loss: 0.2716 - accuracy: 0.9008 - val_loss: 0.2985 - val_accuracy: 0.8916\n",
            "Epoch 22/40\n",
            "391/391 - 4s - loss: 0.2658 - accuracy: 0.9043 - val_loss: 0.2964 - val_accuracy: 0.8930\n",
            "Epoch 23/40\n",
            "391/391 - 4s - loss: 0.2667 - accuracy: 0.9016 - val_loss: 0.2986 - val_accuracy: 0.8934\n",
            "Epoch 24/40\n",
            "391/391 - 4s - loss: 0.2618 - accuracy: 0.9032 - val_loss: 0.2972 - val_accuracy: 0.8951\n",
            "Epoch 25/40\n",
            "391/391 - 4s - loss: 0.2602 - accuracy: 0.9042 - val_loss: 0.2974 - val_accuracy: 0.8932\n",
            "Epoch 26/40\n",
            "391/391 - 4s - loss: 0.2576 - accuracy: 0.9052 - val_loss: 0.2973 - val_accuracy: 0.8932\n",
            "Epoch 27/40\n",
            "391/391 - 4s - loss: 0.2576 - accuracy: 0.9057 - val_loss: 0.2956 - val_accuracy: 0.8938\n",
            "Epoch 28/40\n",
            "391/391 - 4s - loss: 0.2564 - accuracy: 0.9061 - val_loss: 0.2963 - val_accuracy: 0.8925\n",
            "Epoch 29/40\n",
            "391/391 - 4s - loss: 0.2529 - accuracy: 0.9065 - val_loss: 0.2960 - val_accuracy: 0.8949\n",
            "Epoch 30/40\n",
            "391/391 - 4s - loss: 0.2523 - accuracy: 0.9062 - val_loss: 0.2944 - val_accuracy: 0.8946\n",
            "Epoch 31/40\n",
            "391/391 - 4s - loss: 0.2500 - accuracy: 0.9076 - val_loss: 0.2951 - val_accuracy: 0.8944\n",
            "Epoch 32/40\n",
            "391/391 - 4s - loss: 0.2493 - accuracy: 0.9082 - val_loss: 0.2954 - val_accuracy: 0.8944\n",
            "Epoch 33/40\n",
            "391/391 - 4s - loss: 0.2512 - accuracy: 0.9080 - val_loss: 0.2946 - val_accuracy: 0.8956\n",
            "Epoch 34/40\n",
            "391/391 - 4s - loss: 0.2486 - accuracy: 0.9084 - val_loss: 0.2944 - val_accuracy: 0.8956\n",
            "Epoch 35/40\n",
            "391/391 - 4s - loss: 0.2480 - accuracy: 0.9088 - val_loss: 0.2935 - val_accuracy: 0.8957\n",
            "Epoch 36/40\n",
            "391/391 - 4s - loss: 0.2464 - accuracy: 0.9086 - val_loss: 0.2939 - val_accuracy: 0.8950\n",
            "Epoch 37/40\n",
            "391/391 - 4s - loss: 0.2452 - accuracy: 0.9099 - val_loss: 0.2944 - val_accuracy: 0.8948\n",
            "Epoch 38/40\n",
            "391/391 - 4s - loss: 0.2444 - accuracy: 0.9095 - val_loss: 0.2946 - val_accuracy: 0.8965\n",
            "Epoch 39/40\n",
            "391/391 - 4s - loss: 0.2447 - accuracy: 0.9097 - val_loss: 0.2944 - val_accuracy: 0.8966\n",
            "Epoch 40/40\n",
            "391/391 - 4s - loss: 0.2425 - accuracy: 0.9111 - val_loss: 0.2950 - val_accuracy: 0.8949\n"
          ],
          "name": "stdout"
        }
      ]
    },
    {
      "cell_type": "code",
      "metadata": {
        "colab": {
          "base_uri": "https://localhost:8080/"
        },
        "id": "-L6wZbXROHlL",
        "outputId": "b89a3b26-88dd-4d95-b0a8-aa304e1a62d1"
      },
      "source": [
        "model_n.summary()"
      ],
      "execution_count": 44,
      "outputs": [
        {
          "output_type": "stream",
          "text": [
            "Model: \"sequential_4\"\n",
            "_________________________________________________________________\n",
            "Layer (type)                 Output Shape              Param #   \n",
            "=================================================================\n",
            "dense_14 (Dense)             (None, 512)               401920    \n",
            "_________________________________________________________________\n",
            "dropout_4 (Dropout)          (None, 512)               0         \n",
            "_________________________________________________________________\n",
            "dense_15 (Dense)             (None, 128)               65664     \n",
            "_________________________________________________________________\n",
            "dropout_5 (Dropout)          (None, 128)               0         \n",
            "_________________________________________________________________\n",
            "dense_16 (Dense)             (None, 10)                1290      \n",
            "=================================================================\n",
            "Total params: 468,874\n",
            "Trainable params: 468,874\n",
            "Non-trainable params: 0\n",
            "_________________________________________________________________\n"
          ],
          "name": "stdout"
        }
      ]
    },
    {
      "cell_type": "code",
      "metadata": {
        "colab": {
          "base_uri": "https://localhost:8080/"
        },
        "id": "mEVZoNUcOHgI",
        "outputId": "6546ba18-c93d-42fe-913a-5a3b29510274"
      },
      "source": [
        "score_n = model_n.evaluate(test_images_model, test_labels_categ, verbose=0)\n",
        "# print('Test accuracy:', score[1])\n",
        "print(f'{score_n[1]*100:.2f} % Accuracy on the Test set')\n",
        "# You should be able to get,at least, 88% accuracy Test accuracy: 0.8837000131607056"
      ],
      "execution_count": 47,
      "outputs": [
        {
          "output_type": "stream",
          "text": [
            "89.00 % Accuracy on the Test set\n"
          ],
          "name": "stdout"
        }
      ]
    },
    {
      "cell_type": "code",
      "metadata": {
        "colab": {
          "base_uri": "https://localhost:8080/"
        },
        "id": "rD8fdu9OOHcn",
        "outputId": "cba8cb0c-2cd9-4d4a-a685-78bc1965e558"
      },
      "source": [
        "print('Loss: {:.2f}'.format(score_n[0]))"
      ],
      "execution_count": 48,
      "outputs": [
        {
          "output_type": "stream",
          "text": [
            "Loss: 0.32\n"
          ],
          "name": "stdout"
        }
      ]
    },
    {
      "cell_type": "markdown",
      "metadata": {
        "id": "PxjidQAtXPJ_"
      },
      "source": [
        "**`Note`**: Well this is the best model i guess 89% accurate and the cost is reduced other than the above models "
      ]
    },
    {
      "cell_type": "markdown",
      "metadata": {
        "id": "XslxJNYYX3HP"
      },
      "source": [
        "# apply GridSearch cv "
      ]
    },
    {
      "cell_type": "code",
      "metadata": {
        "id": "0Wc1dkunP0WJ"
      },
      "source": [
        "\n",
        "from keras.wrappers.scikit_learn import KerasClassifier\n",
        "from sklearn.model_selection import GridSearchCV\n",
        "from keras.optimizers import *"
      ],
      "execution_count": 49,
      "outputs": []
    },
    {
      "cell_type": "code",
      "metadata": {
        "id": "BRtt7brAT6Uk"
      },
      "source": [
        "# rebuild another Neural Network model to apply GridSearch on it\n",
        "def build_model(optimizer, learning_rate, activation, dropout_rate,\n",
        "                initializer,num_unit):\n",
        "    keras.backend.clear_session()\n",
        "    model = Sequential()\n",
        "    model.add(Dense(num_unit, kernel_initializer=initializer,\n",
        "                    activation=activation, input_shape=(784,)))\n",
        "    model.add(Dropout(dropout_rate))\n",
        "    model.add(Dense(num_unit, kernel_initializer=initializer,\n",
        "                    activation=activation))\n",
        "    model.add(Dropout(dropout_rate)) \n",
        "    model.add(Dense(10, activation='softmax'))\n",
        "    model.compile(loss='categorical_crossentropy',\n",
        "                  optimizer=optimizer(learning_rate= learning_rate),\n",
        "                  metrics=['accuracy'])\n",
        "    return model"
      ],
      "execution_count": 50,
      "outputs": []
    },
    {
      "cell_type": "code",
      "metadata": {
        "id": "CyA8DfZPULP-"
      },
      "source": [
        "# Hyper-Parameters\n",
        "# [:1] is for testing\n",
        "\n",
        "batch_size = [20, 50, 100][:1]\n",
        "epochs = [1, 20, 50][:1]\n",
        "initializer = ['lecun_uniform', 'normal', 'he_normal', 'he_uniform'][:1]\n",
        "\n",
        "learning_rate = [0.1, 0.001, 0.02][:1]\n",
        "dropout_rate = [0.3, 0.2, 0.8][:1]\n",
        "\n",
        "num_unit = [10, 5][:1]\n",
        "\n",
        "activation = ['relu', 'tanh', 'sigmoid', 'hard_sigmoid', 'linear'][:1]\n",
        "optimizer = [SGD, RMSprop, Adagrad, Adadelta, Adam, Adamax, Nadam][:1]"
      ],
      "execution_count": 51,
      "outputs": []
    },
    {
      "cell_type": "code",
      "metadata": {
        "id": "rnz9yECtUV6d"
      },
      "source": [
        "# Creat the wrapper and pass parameters to GridSearchCV \n",
        "# parameters is a dictionary with the entire values\n",
        "\n",
        "parameters = dict(batch_size = batch_size,\n",
        "                  epochs = epochs,\n",
        "                  dropout_rate = dropout_rate,\n",
        "                  num_unit = num_unit,\n",
        "                  initializer = initializer,\n",
        "                  learning_rate = learning_rate,\n",
        "                  activation = activation,\n",
        "                  optimizer = optimizer)\n",
        "\n",
        "model4 = KerasClassifier(build_fn=build_model, verbose=0)\n",
        "\n",
        "models = GridSearchCV(estimator = model4, param_grid=parameters, n_jobs=1)"
      ],
      "execution_count": 52,
      "outputs": []
    },
    {
      "cell_type": "code",
      "metadata": {
        "id": "6J0ry3OjVWeZ"
      },
      "source": [
        "import pprint\n",
        "pp = pprint.PrettyPrinter(indent = 4)"
      ],
      "execution_count": 53,
      "outputs": []
    },
    {
      "cell_type": "markdown",
      "metadata": {
        "id": "j2DnMvIUXQte"
      },
      "source": [
        "###Train the Models "
      ]
    },
    {
      "cell_type": "code",
      "metadata": {
        "colab": {
          "base_uri": "https://localhost:8080/"
        },
        "id": "oHUYredaU5eg",
        "outputId": "eb78c113-4c4b-4eec-f578-81e73cc20916"
      },
      "source": [
        "best_model = models.fit(train_images_model, train_labels_categ)\n",
        "print(\"=\"*40, '\\nThe Best  hypper-parameter values are :\\n',\"=\"*40)\n",
        "pp.pprint(best_model.best_params_)"
      ],
      "execution_count": 54,
      "outputs": [
        {
          "output_type": "stream",
          "text": [
            "======================================== \n",
            "The Best  hypper-parameter values are :\n",
            " ========================================\n",
            "{   'activation': 'relu',\n",
            "    'batch_size': 20,\n",
            "    'dropout_rate': 0.3,\n",
            "    'epochs': 1,\n",
            "    'initializer': 'lecun_uniform',\n",
            "    'learning_rate': 0.1,\n",
            "    'num_unit': 10,\n",
            "    'optimizer': <class 'tensorflow.python.keras.optimizer_v2.gradient_descent.SGD'>}\n"
          ],
          "name": "stdout"
        }
      ]
    },
    {
      "cell_type": "code",
      "metadata": {
        "id": "hCkUF3v1G5dF"
      },
      "source": [
        "test_logits = model_n.predict(test_images_flatten)"
      ],
      "execution_count": 64,
      "outputs": []
    },
    {
      "cell_type": "code",
      "metadata": {
        "id": "pK9UXMLBIlEA",
        "colab": {
          "base_uri": "https://localhost:8080/"
        },
        "outputId": "cc2b8f61-7996-4515-d624-3e79dc361b1c"
      },
      "source": [
        "test_logits"
      ],
      "execution_count": 65,
      "outputs": [
        {
          "output_type": "execute_result",
          "data": {
            "text/plain": [
              "array([[0., 0., 0., ..., 0., 0., 1.],\n",
              "       [0., 0., 1., ..., 0., 0., 0.],\n",
              "       [0., 1., 0., ..., 0., 0., 0.],\n",
              "       ...,\n",
              "       [0., 0., 0., ..., 0., 1., 0.],\n",
              "       [0., 1., 0., ..., 0., 0., 0.],\n",
              "       [0., 0., 0., ..., 0., 0., 0.]], dtype=float32)"
            ]
          },
          "metadata": {
            "tags": []
          },
          "execution_count": 65
        }
      ]
    },
    {
      "cell_type": "code",
      "metadata": {
        "id": "QALjBibII8Ah"
      },
      "source": [
        "test_predictions = np.argmax(test_logits, axis=1)\n"
      ],
      "execution_count": 66,
      "outputs": []
    },
    {
      "cell_type": "code",
      "metadata": {
        "id": "_M2B-1ZzI__z",
        "colab": {
          "base_uri": "https://localhost:8080/"
        },
        "outputId": "b2452eb8-2b7d-4bc1-da37-7dadc168f89f"
      },
      "source": [
        "test_predictions"
      ],
      "execution_count": 67,
      "outputs": [
        {
          "output_type": "execute_result",
          "data": {
            "text/plain": [
              "array([9, 2, 1, ..., 8, 1, 5])"
            ]
          },
          "metadata": {
            "tags": []
          },
          "execution_count": 67
        }
      ]
    },
    {
      "cell_type": "code",
      "metadata": {
        "id": "TFgIjuYpJBGW",
        "colab": {
          "base_uri": "https://localhost:8080/",
          "height": 724
        },
        "outputId": "11fd9ff8-8ac0-4434-f50e-572a5119a19c"
      },
      "source": [
        "plt.figure(figsize=(10,10))\n",
        "for i in range(25):\n",
        "    plt.subplot(5,5,i+1)\n",
        "    plt.xticks([])\n",
        "    plt.yticks([])\n",
        "    plt.grid('off')\n",
        "    \n",
        "    img_index = np.random.randint(0, 10000)\n",
        "    plt.imshow(test_images[img_index], cmap=plt.cm.binary)\n",
        "    \n",
        "    actual_label = int(test_labels[img_index])\n",
        "    predicted_label = int(test_predictions[img_index])\n",
        "    \n",
        "    plt.xlabel(\"Actual: {} ({})\\n Predicted: {} ({})\".format(\n",
        "        actual_label, text_labels[actual_label], predicted_label, text_labels[predicted_label]\n",
        "    ))\n",
        "    \n",
        "plt.tight_layout()\n",
        "plt.show()"
      ],
      "execution_count": 68,
      "outputs": [
        {
          "output_type": "display_data",
          "data": {
            "image/png": "[encoded data removed]",
            "text/plain": [
              "<Figure size 720x720 with 25 Axes>"
            ]
          },
          "metadata": {
            "tags": []
          }
        }
      ]
    },
    {
      "cell_type": "markdown",
      "metadata": {
        "id": "87Y3MiVrYY4f"
      },
      "source": [
        "### **The model predicts 3 wrongs items from 25 wich is pretty good**:\n",
        "- 4: Coat and it was 2: Pullover\n",
        "- and, 0: t-shirt and it was 3: Dress \n",
        "- at last, predicted shirt6 as t-shirt0"
      ]
    },
    {
      "cell_type": "code",
      "metadata": {
        "colab": {
          "base_uri": "https://localhost:8080/"
        },
        "id": "QwJvcikF9M1g",
        "outputId": "d9d044e4-f1f7-4267-918b-7b5f1272b472"
      },
      "source": [
        "test_images_model.shape"
      ],
      "execution_count": 69,
      "outputs": [
        {
          "output_type": "execute_result",
          "data": {
            "text/plain": [
              "(10000, 784)"
            ]
          },
          "metadata": {
            "tags": []
          },
          "execution_count": 69
        }
      ]
    },
    {
      "cell_type": "code",
      "metadata": {
        "colab": {
          "base_uri": "https://localhost:8080/"
        },
        "id": "cYaOSwbv9Sb0",
        "outputId": "c3729f06-9c5d-4820-eb91-fa0c4517a292"
      },
      "source": [
        "test_labels_categ.shape"
      ],
      "execution_count": 70,
      "outputs": [
        {
          "output_type": "execute_result",
          "data": {
            "text/plain": [
              "(10000, 10)"
            ]
          },
          "metadata": {
            "tags": []
          },
          "execution_count": 70
        }
      ]
    },
    {
      "cell_type": "code",
      "metadata": {
        "id": "Gnw0Cwc8JGe8",
        "colab": {
          "base_uri": "https://localhost:8080/",
          "height": 467
        },
        "outputId": "46f874d1-4ff6-42e5-f2d4-58b44a0b1b43"
      },
      "source": [
        "# Summarize the training process\n",
        "fig = plt.figure(figsize=(20,7))\n",
        "fig.add_subplot(121)\n",
        "\n",
        "# Accuracy\n",
        "plt.plot(history.epoch, \n",
        "         history.history['accuracy'], \n",
        "         label = \"accuracy\",\n",
        "         color=\"r\")\n",
        "plt.plot(history.epoch, \n",
        "         history.history['val_accuracy'], \n",
        "         label = \"val_accuracy\",\n",
        "         color=\"tomato\")\n",
        "\n",
        "plt.title(\"=== Accuracy Curve ===\", fontsize=18, c=\"purple\")\n",
        "plt.xlabel(\"Epochs\", fontsize=15, c=\"b\")\n",
        "plt.ylabel(\"Accuracy\", fontsize=15, c=\"b\")\n",
        "plt.grid(alpha=0.3)\n",
        "plt.legend()\n",
        "\n",
        "\n",
        "#Adding Subplot 1 (For Loss)\n",
        "fig.add_subplot(122)\n",
        "\n",
        "plt.plot(history.epoch, history.history['loss'], label=\"loss\", color=\"darkblue\")\n",
        "plt.plot(history.epoch, history.history['val_loss'], label=\"val_loss\")\n",
        "\n",
        "plt.title(\"=== Loss Curve ===\", fontsize=18, c=\"purple\")\n",
        "plt.xlabel(\"Epochs\", fontsize=15, c=\"b\")\n",
        "plt.ylabel(\"Loss\", fontsize=15, c=\"b\")\n",
        "plt.grid(alpha=0.3, c=\"pink\")\n",
        "plt.legend()\n",
        "\n",
        "plt.show()"
      ],
      "execution_count": 71,
      "outputs": [
        {
          "output_type": "display_data",
          "data": {
            "image/png": "[encoded data removed]",
            "text/plain": [
              "<Figure size 1440x504 with 2 Axes>"
            ]
          },
          "metadata": {
            "tags": [],
            "needs_background": "light"
          }
        }
      ]
    },
    {
      "cell_type": "markdown",
      "metadata": {
        "id": "LpWeCovDj7Bg"
      },
      "source": [
        "###score Report"
      ]
    },
    {
      "cell_type": "code",
      "metadata": {
        "id": "pVCXzhrDmL2o"
      },
      "source": [
        "from sklearn.metrics import classification_report, confusion_matrix"
      ],
      "execution_count": 121,
      "outputs": []
    },
    {
      "cell_type": "code",
      "metadata": {
        "id": "HUVIFcRNhxdr"
      },
      "source": [
        "classes = ['T-shirt/Top','Trouser','Pullover','Dress','Coat','Sandal','Shirt','Sneaker','Bag','Ankle Boot']"
      ],
      "execution_count": 122,
      "outputs": []
    },
    {
      "cell_type": "code",
      "metadata": {
        "id": "Jnx0NmvGj9E1"
      },
      "source": [
        "predictions = model_n.predict(test_images_model)\n",
        "# Convert predictions classes to one hot vectors \n",
        "predictions_classes = np.argmax(predictions, axis = 1)\n",
        "# Convert test set observations to one hot vectors\n",
        "y_true = np.argmax(test_labels_categ, axis = 1)"
      ],
      "execution_count": 123,
      "outputs": []
    },
    {
      "cell_type": "code",
      "metadata": {
        "colab": {
          "base_uri": "https://localhost:8080/"
        },
        "id": "o1mexcMRl9JX",
        "outputId": "2943a84e-2c5c-4688-ec4f-81bfb7c396de"
      },
      "source": [
        "print(classification_report(y_true, predictions_classes, target_names = classes))"
      ],
      "execution_count": 120,
      "outputs": [
        {
          "output_type": "stream",
          "text": [
            "              precision    recall  f1-score   support\n",
            "\n",
            " T-shirt/Top       0.83      0.85      0.84      1000\n",
            "     Trouser       0.99      0.97      0.98      1000\n",
            "    Pullover       0.79      0.81      0.80      1000\n",
            "       Dress       0.89      0.90      0.90      1000\n",
            "        Coat       0.80      0.82      0.81      1000\n",
            "      Sandal       0.98      0.96      0.97      1000\n",
            "       Shirt       0.73      0.68      0.70      1000\n",
            "     Sneaker       0.94      0.97      0.96      1000\n",
            "         Bag       0.97      0.98      0.97      1000\n",
            "  Ankle Boot       0.97      0.96      0.96      1000\n",
            "\n",
            "    accuracy                           0.89     10000\n",
            "   macro avg       0.89      0.89      0.89     10000\n",
            "weighted avg       0.89      0.89      0.89     10000\n",
            "\n"
          ],
          "name": "stdout"
        }
      ]
    },
    {
      "cell_type": "markdown",
      "metadata": {
        "id": "WLLyH4RligQP"
      },
      "source": [
        "###The model has some difficult to predict the shirt images = \n",
        "- about 70% of Shirts correctly from total images it predicted as Shirts\n",
        "- and the rest is predicted wrong"
      ]
    },
    {
      "cell_type": "markdown",
      "metadata": {
        "id": "MVC9FZ-MaR_E"
      },
      "source": [
        "##Plot confusion Matrix "
      ]
    },
    {
      "cell_type": "code",
      "metadata": {
        "id": "w9qtFrWDb5Is"
      },
      "source": [
        "import itertools"
      ],
      "execution_count": 83,
      "outputs": []
    },
    {
      "cell_type": "code",
      "metadata": {
        "id": "Da86lGq0aWV8"
      },
      "source": [
        "def plot_confusion_matrix(cm, classes,\n",
        "                          normalize=False,\n",
        "                          title='Confusion matrix',\n",
        "                          cmap=plt.cm.PuBuGn):\n",
        "    plt.figure(figsize=(18,10))\n",
        "    plt.imshow(cm, interpolation='nearest', cmap=cmap)\n",
        "    plt.title(title, fontsize=18, c=\"DarkOrchid\")\n",
        "    plt.colorbar()\n",
        "    tick_marks = np.arange(len(classes))\n",
        "    plt.xticks(tick_marks, classes, rotation=90)\n",
        "    plt.yticks(tick_marks, classes)\n",
        "\n",
        "    if normalize:\n",
        "        cm = cm.astype('float') / cm.sum(axis=1)[:, np.newaxis]\n",
        "\n",
        "    thresh = cm.max() / 2.\n",
        "    for i, j in itertools.product(range(cm.shape[0]), range(cm.shape[1])):\n",
        "        plt.text(j, i, cm[i, j],\n",
        "                 horizontalalignment=\"center\",\n",
        "                 color=\"white\" if cm[i, j] > thresh else \"black\")\n",
        "\n",
        "    plt.tight_layout()\n",
        "    plt.ylabel('True label')\n",
        "    plt.xlabel('Predicted label')"
      ],
      "execution_count": 116,
      "outputs": []
    },
    {
      "cell_type": "code",
      "metadata": {
        "colab": {
          "base_uri": "https://localhost:8080/",
          "height": 743
        },
        "id": "YoHxv75za2od",
        "outputId": "ff67316b-177e-46d6-920a-cf309cd2eb7d"
      },
      "source": [
        "# Predict the values from the validation dataset\n",
        "Y_pred = model_n.predict(test_images_model)\n",
        "\n",
        "# Convert predictions classes to one hot vectors \n",
        "Y_pred_classes = np.argmax(Y_pred,\n",
        "                           axis = 1) \n",
        "\n",
        "# Convert validation labels to one hot vectors\n",
        "Y_true = np.argmax(test_labels_categ,\n",
        "                   axis = 1) \n",
        "\n",
        "#confusion matrix\n",
        "confusion = confusion_matrix(Y_true, Y_pred_classes) \n",
        "\n",
        "# plot the confusion matrix\n",
        "plot_confusion_matrix(confusion, \n",
        "            classes = classes)"
      ],
      "execution_count": 117,
      "outputs": [
        {
          "output_type": "display_data",
          "data": {
            "image/png": "[encoded data removed]",
            "text/plain": [
              "<Figure size 1296x720 with 2 Axes>"
            ]
          },
          "metadata": {
            "tags": [],
            "needs_background": "light"
          }
        }
      ]
    },
    {
      "cell_type": "markdown",
      "metadata": {
        "id": "JJxm_WhIgAKu"
      },
      "source": [
        "#### Also, we can see that a large number of T-shirt/top are wrongly classified as Shirt, also pullover and coat, the same results as the report above\n"
      ]
    },
    {
      "cell_type": "code",
      "metadata": {
        "id": "1p9YVlnVz78i"
      },
      "source": [
        ""
      ],
      "execution_count": null,
      "outputs": []
    }
  ]
}