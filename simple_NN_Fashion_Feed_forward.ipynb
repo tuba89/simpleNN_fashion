{
  "nbformat": 4,
  "nbformat_minor": 0,
  "metadata": {
    "colab": {
      "name": "simple NN_Fashion Feed forward.ipynb",
      "provenance": [],
      "collapsed_sections": [],
      "include_colab_link": true
    },
    "kernelspec": {
      "name": "python3",
      "display_name": "Python 3"
    }
  },
  "cells": [
    {
      "cell_type": "markdown",
      "metadata": {
        "id": "view-in-github",
        "colab_type": "text"
      },
      "source": [
        "<a href=\"https://colab.research.google.com/github/tuba89/simpleNN_fashion/blob/main/simple_NN_Fashion_Feed_forward.ipynb\" target=\"_parent\"><img src=\"https://colab.research.google.com/assets/colab-badge.svg\" alt=\"Open In Colab\"/></a>"
      ]
    },
    {
      "cell_type": "markdown",
      "metadata": {
        "id": "HFfN7kHs30Za"
      },
      "source": [
        "# Introduction\n",
        "In this practical, we implement and train a feed-forward neural network (also known as an \"MLP\" for \"multi-layer perceptron\") on a dataset called \"Fashion MNIST\", consisting of small greyscale images of items of fashion."
      ]
    },
    {
      "cell_type": "markdown",
      "metadata": {
        "id": "By8UCLvd4AXs"
      },
      "source": [
        "# Learning Objectives\n",
        "\n",
        "* Understand how to use Keras Layers to build a neural network architecture\n",
        "* Understand how a model is trained and evaluated\n",
        "* Understand the concept of train/validation/test split and why it's useful"
      ]
    },
    {
      "cell_type": "code",
      "metadata": {
        "id": "led8b_He3lSO"
      },
      "source": [
        "from __future__ import print_function\n",
        "\n",
        "import keras\n",
        "from keras.datasets import fashion_mnist\n",
        "from keras.models import Sequential\n",
        "from keras.layers import Dense, Dropout\n",
        "from keras.optimizers import RMSprop\n",
        "import numpy as np \n",
        "import matplotlib.pyplot as plt\n",
        "import tensorflow as tf\n"
      ],
      "execution_count": 2,
      "outputs": []
    },
    {
      "cell_type": "markdown",
      "metadata": {
        "id": "mz3nYTAQ5Om_"
      },
      "source": [
        "# Data\n",
        "In this practical, we use the Fashion MNIST dataset consisting of 70,000 greyscale images and their labels. The dataset is divided\n",
        " into 60,000 training images and 10,000 test images. The idea is to train a **classifier** to identify the class value (what type of fashion item it is) given the image. We train and *tune* a model on the 60,000 training images and then evaluate how well it classifies the 10,000 test images that the model did not see during training. This task is an example of a **supervised learning** problem, where we are given both input and labels (targets) to learn from. This is in contrast to **unsupervised learning** where we only have inputs from which to learn patterns or **reinforcement learning** where an agent learns how to maximise a reward signal through interaction with its environment. "
      ]
    },
    {
      "cell_type": "markdown",
      "metadata": {
        "id": "NuXlN2AI5jQU"
      },
      "source": [
        "![Texte alternatif…](https://res.cloudinary.com/practicaldev/image/fetch/s---fNWEeWA--/c_imagga_scale,f_auto,fl_progressive,h_420,q_auto,w_1000/https://raw.githubusercontent.com/zalandoresearch/fashion-mnist/master/doc/img/fashion-mnist-sprite.png)"
      ]
    },
    {
      "cell_type": "markdown",
      "metadata": {
        "id": "6viD-QxP56CW"
      },
      "source": [
        "# Train/Validation/Test Split\n",
        "\n",
        "When we build machine learning models, the goal is to build a model that will perform well on future data that we have not seen yet. We say that we want our models to be able to generalise well from whatever training data we can collect and do have available, to whatever data we will be applying them to in future. To do this, we split whatever data we have available into a training set, a validation set and a test set. The idea is that we train our model and use the performance on the validation set to make any adjustments to the model and its hyperparameters, but then we report the final accuracy on the test set. The test set (which we never train on), therefore acts as a proxy for our future data."
      ]
    },
    {
      "cell_type": "code",
      "metadata": {
        "id": "Pj6ujhiG57U7",
        "colab": {
          "base_uri": "https://localhost:8080/"
        },
        "outputId": "c38394d6-41fb-4691-e9ac-1103306e40b0"
      },
      "source": [
        "(train_and_validation_images, train_and_validation_labels), (test_images, test_labels) = fashion_mnist.load_data()"
      ],
      "execution_count": 3,
      "outputs": [
        {
          "output_type": "stream",
          "text": [
            "Downloading data from https://storage.googleapis.com/tensorflow/tf-keras-datasets/train-labels-idx1-ubyte.gz\n",
            "32768/29515 [=================================] - 0s 0us/step\n",
            "40960/29515 [=========================================] - 0s 0us/step\n",
            "Downloading data from https://storage.googleapis.com/tensorflow/tf-keras-datasets/train-images-idx3-ubyte.gz\n",
            "26427392/26421880 [==============================] - 0s 0us/step\n",
            "26435584/26421880 [==============================] - 0s 0us/step\n",
            "Downloading data from https://storage.googleapis.com/tensorflow/tf-keras-datasets/t10k-labels-idx1-ubyte.gz\n",
            "16384/5148 [===============================================================================================] - 0s 0us/step\n",
            "Downloading data from https://storage.googleapis.com/tensorflow/tf-keras-datasets/t10k-images-idx3-ubyte.gz\n",
            "4423680/4422102 [==============================] - 0s 0us/step\n",
            "4431872/4422102 [==============================] - 0s 0us/step\n"
          ],
          "name": "stdout"
        }
      ]
    },
    {
      "cell_type": "code",
      "metadata": {
        "id": "nugXqVz45_gc"
      },
      "source": [
        "# Construct a validation set from the last 10 000 images and labels from \n",
        "# train_and_validation_images and train_and_validation_labels\n",
        "validation_images = train_and_validation_images[-10000:, :, :]\n",
        "validation_labels = train_and_validation_labels[-10000:] # 0 to 9\n",
        "\n",
        "# Construct a training set from the first 50 000 images and labels.\n",
        "train_images = train_and_validation_images[:50000, :, :]\n",
        "train_labels = train_and_validation_labels[:50000]"
      ],
      "execution_count": 4,
      "outputs": []
    },
    {
      "cell_type": "code",
      "metadata": {
        "colab": {
          "base_uri": "https://localhost:8080/"
        },
        "id": "1P1xpz8aaXEU",
        "outputId": "c6ac88eb-8697-475c-d305-e7120ec131df"
      },
      "source": [
        "train_labels"
      ],
      "execution_count": 5,
      "outputs": [
        {
          "output_type": "execute_result",
          "data": {
            "text/plain": [
              "array([9, 0, 0, ..., 5, 1, 7], dtype=uint8)"
            ]
          },
          "metadata": {
            "tags": []
          },
          "execution_count": 5
        }
      ]
    },
    {
      "cell_type": "code",
      "metadata": {
        "id": "mbgd2G736W0m"
      },
      "source": [
        "text_labels = ['T-shirt/top', 'Trouser', 'Pullover', 'Dress', 'Coat', 'Sandal', 'Shirt', 'Sneaker', 'Bag', 'Ankle boot']"
      ],
      "execution_count": 6,
      "outputs": []
    },
    {
      "cell_type": "code",
      "metadata": {
        "id": "am1Pzfc-6GfH",
        "colab": {
          "base_uri": "https://localhost:8080/",
          "height": 281
        },
        "outputId": "fb4d754d-2842-4d3d-fc73-a208947017bc"
      },
      "source": [
        "plt.figure()\n",
        "random_index = np.random.randint(0, len(train_images))\n",
        "plt.imshow(train_images[random_index], cmap=plt.cm.binary)\n",
        "plt.colorbar()\n",
        "numerical_label = train_labels[random_index]\n",
        "text_description = text_labels[numerical_label]\n",
        "plt.title('True Class: {} (\"{}\")'.format(numerical_label, text_description))\n",
        "\n",
        "plt.gca().grid(False)"
      ],
      "execution_count": 7,
      "outputs": [
        {
          "output_type": "display_data",
          "data": {
            "image/png": "[encoded data removed]",
            "text/plain": [
              "<Figure size 432x288 with 2 Axes>"
            ]
          },
          "metadata": {
            "tags": [],
            "needs_background": "light"
          }
        }
      ]
    },
    {
      "cell_type": "code",
      "metadata": {
        "id": "B3oh8xTI6Q09",
        "colab": {
          "base_uri": "https://localhost:8080/",
          "height": 1000
        },
        "outputId": "e844fafa-6b44-413c-b23f-161a47ce32b1"
      },
      "source": [
        "# Another view, showing 50 randomly selected images at a time\n",
        "plt.figure(figsize=(20,20))\n",
        "for i in range(50):\n",
        "    plt.subplot(5,10,i+1)\n",
        "    plt.xticks([])\n",
        "    plt.yticks([])\n",
        "    plt.grid('off')\n",
        "    \n",
        "    img_index = np.random.randint(0, 50000)\n",
        "    plt.imshow(train_images[img_index], cmap=plt.cm.binary)\n",
        "    plt.xlabel(text_labels[train_labels[img_index]])"
      ],
      "execution_count": 8,
      "outputs": [
        {
          "output_type": "display_data",
          "data": {
            "image/png": "[encoded data removed]",
            "text/plain": [
              "<Figure size 1440x1440 with 50 Axes>"
            ]
          },
          "metadata": {
            "tags": []
          }
        }
      ]
    },
    {
      "cell_type": "markdown",
      "metadata": {
        "id": "DINinlUyD18y"
      },
      "source": [
        "# Preprocess"
      ]
    },
    {
      "cell_type": "code",
      "metadata": {
        "id": "u1xLZATV6jfF"
      },
      "source": [
        "# Flatten\n",
        "\n",
        "train_images_flatten = train_images.reshape(train_images.shape[0], 784)\n",
        "validation_images_flatten = validation_images.reshape(validation_images.shape[0], 784)\n",
        "test_images_flatten = test_images.reshape(test_images.shape[0], 784)\n",
        "\n"
      ],
      "execution_count": 9,
      "outputs": []
    },
    {
      "cell_type": "code",
      "metadata": {
        "id": "WEP3oGlXD7fr"
      },
      "source": [
        "# Normalize\n",
        "\n",
        "train_images_model = train_images_flatten/255.\n",
        "validation_images_model = validation_images_flatten/255.\n",
        "test_images_model = test_images_flatten / 255."
      ],
      "execution_count": 10,
      "outputs": []
    },
    {
      "cell_type": "code",
      "metadata": {
        "id": "gO3uF89PD6T7"
      },
      "source": [
        "# convert class vectors to binary class matrices\n",
        "train_labels_categ = tf.keras.utils.to_categorical(train_labels, 10)\n",
        "validation_labels_categ = tf.keras.utils.to_categorical(validation_labels, 10)\n",
        "test_labels_categ = tf.keras.utils.to_categorical(test_labels, 10)"
      ],
      "execution_count": 11,
      "outputs": []
    },
    {
      "cell_type": "code",
      "metadata": {
        "colab": {
          "base_uri": "https://localhost:8080/"
        },
        "id": "wvW88Kf6dsRk",
        "outputId": "28e2853c-2af4-4408-b461-38a0e803e825"
      },
      "source": [
        "train_images_model\n",
        "validation_images_model\n",
        "test_images_model\n",
        "\n",
        "train_labels_categ\n",
        "validation_labels_categ\n",
        "test_labels_categ"
      ],
      "execution_count": 12,
      "outputs": [
        {
          "output_type": "execute_result",
          "data": {
            "text/plain": [
              "array([[0., 0., 0., ..., 0., 0., 1.],\n",
              "       [0., 0., 1., ..., 0., 0., 0.],\n",
              "       [0., 1., 0., ..., 0., 0., 0.],\n",
              "       ...,\n",
              "       [0., 0., 0., ..., 0., 1., 0.],\n",
              "       [0., 1., 0., ..., 0., 0., 0.],\n",
              "       [0., 0., 0., ..., 0., 0., 0.]], dtype=float32)"
            ]
          },
          "metadata": {
            "tags": []
          },
          "execution_count": 12
        }
      ]
    },
    {
      "cell_type": "markdown",
      "metadata": {
        "id": "jAIs5PmSMKIG"
      },
      "source": [
        "# Train"
      ]
    },
    {
      "cell_type": "code",
      "metadata": {
        "id": "P6J6u4eXAqoi"
      },
      "source": [
        "batch_size = 128\n",
        "num_classes = 10\n",
        "epochs = 40\n"
      ],
      "execution_count": 13,
      "outputs": []
    },
    {
      "cell_type": "markdown",
      "metadata": {
        "id": "E0VHAT8gCP5p"
      },
      "source": [
        "##First model :"
      ]
    },
    {
      "cell_type": "code",
      "metadata": {
        "id": "ZbTyjNXHAqfZ"
      },
      "source": [
        "model_1 = Sequential()\n",
        "model_1.add(Dense(units=256, activation=\"relu\"))\n",
        "model_1.add(Dense(units=128, activation=\"relu\"))\n",
        "model_1.add(Dense(units=10, activation=\"relu\"))"
      ],
      "execution_count": 14,
      "outputs": []
    },
    {
      "cell_type": "code",
      "metadata": {
        "id": "xrLkL4FEA2-M"
      },
      "source": [
        "model_1.compile(loss='categorical_crossentropy',\n",
        "                optimizer=RMSprop(),\n",
        "                metrics=['accuracy'])\n",
        "\n"
      ],
      "execution_count": 15,
      "outputs": []
    },
    {
      "cell_type": "code",
      "metadata": {
        "colab": {
          "base_uri": "https://localhost:8080/"
        },
        "id": "5qVaH1JWB7wy",
        "outputId": "022cdfdc-2707-4acc-80fb-dfc2930fbcca"
      },
      "source": [
        "history = model_1.fit(train_images_model, train_labels_categ,\n",
        "                    batch_size=batch_size,\n",
        "                    epochs=epochs,\n",
        "                    verbose=1,\n",
        "                    validation_data=(validation_images_model, validation_labels_categ))"
      ],
      "execution_count": 16,
      "outputs": [
        {
          "output_type": "stream",
          "text": [
            "Epoch 1/40\n",
            "391/391 [==============================] - 26s 8ms/step - loss: nan - accuracy: 0.1660 - val_loss: nan - val_accuracy: 0.1023\n",
            "Epoch 2/40\n",
            "391/391 [==============================] - 3s 7ms/step - loss: nan - accuracy: 0.1007 - val_loss: nan - val_accuracy: 0.1023\n",
            "Epoch 3/40\n",
            "391/391 [==============================] - 3s 7ms/step - loss: nan - accuracy: 0.0994 - val_loss: nan - val_accuracy: 0.1023\n",
            "Epoch 4/40\n",
            "391/391 [==============================] - 3s 7ms/step - loss: nan - accuracy: 0.0990 - val_loss: nan - val_accuracy: 0.1023\n",
            "Epoch 5/40\n",
            "391/391 [==============================] - 3s 7ms/step - loss: nan - accuracy: 0.1023 - val_loss: nan - val_accuracy: 0.1023\n",
            "Epoch 6/40\n",
            "391/391 [==============================] - 3s 7ms/step - loss: nan - accuracy: 0.0997 - val_loss: nan - val_accuracy: 0.1023\n",
            "Epoch 7/40\n",
            "391/391 [==============================] - 3s 7ms/step - loss: nan - accuracy: 0.1005 - val_loss: nan - val_accuracy: 0.1023\n",
            "Epoch 8/40\n",
            "391/391 [==============================] - 3s 7ms/step - loss: nan - accuracy: 0.1000 - val_loss: nan - val_accuracy: 0.1023\n",
            "Epoch 9/40\n",
            "391/391 [==============================] - 3s 7ms/step - loss: nan - accuracy: 0.0982 - val_loss: nan - val_accuracy: 0.1023\n",
            "Epoch 10/40\n",
            "391/391 [==============================] - 3s 7ms/step - loss: nan - accuracy: 0.1003 - val_loss: nan - val_accuracy: 0.1023\n",
            "Epoch 11/40\n",
            "391/391 [==============================] - 3s 7ms/step - loss: nan - accuracy: 0.0959 - val_loss: nan - val_accuracy: 0.1023\n",
            "Epoch 12/40\n",
            "391/391 [==============================] - 3s 7ms/step - loss: nan - accuracy: 0.1010 - val_loss: nan - val_accuracy: 0.1023\n",
            "Epoch 13/40\n",
            "391/391 [==============================] - 3s 7ms/step - loss: nan - accuracy: 0.1002 - val_loss: nan - val_accuracy: 0.1023\n",
            "Epoch 14/40\n",
            "391/391 [==============================] - 3s 6ms/step - loss: nan - accuracy: 0.0978 - val_loss: nan - val_accuracy: 0.1023\n",
            "Epoch 15/40\n",
            "391/391 [==============================] - 3s 7ms/step - loss: nan - accuracy: 0.0996 - val_loss: nan - val_accuracy: 0.1023\n",
            "Epoch 16/40\n",
            "391/391 [==============================] - 3s 7ms/step - loss: nan - accuracy: 0.0992 - val_loss: nan - val_accuracy: 0.1023\n",
            "Epoch 17/40\n",
            "391/391 [==============================] - 3s 7ms/step - loss: nan - accuracy: 0.0998 - val_loss: nan - val_accuracy: 0.1023\n",
            "Epoch 18/40\n",
            "391/391 [==============================] - 3s 7ms/step - loss: nan - accuracy: 0.1007 - val_loss: nan - val_accuracy: 0.1023\n",
            "Epoch 19/40\n",
            "391/391 [==============================] - 3s 7ms/step - loss: nan - accuracy: 0.0999 - val_loss: nan - val_accuracy: 0.1023\n",
            "Epoch 20/40\n",
            "391/391 [==============================] - 3s 7ms/step - loss: nan - accuracy: 0.1025 - val_loss: nan - val_accuracy: 0.1023\n",
            "Epoch 21/40\n",
            "391/391 [==============================] - 3s 7ms/step - loss: nan - accuracy: 0.0987 - val_loss: nan - val_accuracy: 0.1023\n",
            "Epoch 22/40\n",
            "391/391 [==============================] - 3s 7ms/step - loss: nan - accuracy: 0.0992 - val_loss: nan - val_accuracy: 0.1023\n",
            "Epoch 23/40\n",
            "391/391 [==============================] - 3s 7ms/step - loss: nan - accuracy: 0.1004 - val_loss: nan - val_accuracy: 0.1023\n",
            "Epoch 24/40\n",
            "391/391 [==============================] - 3s 7ms/step - loss: nan - accuracy: 0.1022 - val_loss: nan - val_accuracy: 0.1023\n",
            "Epoch 25/40\n",
            "391/391 [==============================] - 3s 7ms/step - loss: nan - accuracy: 0.0976 - val_loss: nan - val_accuracy: 0.1023\n",
            "Epoch 26/40\n",
            "391/391 [==============================] - 3s 7ms/step - loss: nan - accuracy: 0.1001 - val_loss: nan - val_accuracy: 0.1023\n",
            "Epoch 27/40\n",
            "391/391 [==============================] - 3s 7ms/step - loss: nan - accuracy: 0.0979 - val_loss: nan - val_accuracy: 0.1023\n",
            "Epoch 28/40\n",
            "391/391 [==============================] - 3s 7ms/step - loss: nan - accuracy: 0.0981 - val_loss: nan - val_accuracy: 0.1023\n",
            "Epoch 29/40\n",
            "391/391 [==============================] - 3s 7ms/step - loss: nan - accuracy: 0.0987 - val_loss: nan - val_accuracy: 0.1023\n",
            "Epoch 30/40\n",
            "391/391 [==============================] - 3s 7ms/step - loss: nan - accuracy: 0.0974 - val_loss: nan - val_accuracy: 0.1023\n",
            "Epoch 31/40\n",
            "391/391 [==============================] - 3s 7ms/step - loss: nan - accuracy: 0.0992 - val_loss: nan - val_accuracy: 0.1023\n",
            "Epoch 32/40\n",
            "391/391 [==============================] - 3s 7ms/step - loss: nan - accuracy: 0.1000 - val_loss: nan - val_accuracy: 0.1023\n",
            "Epoch 33/40\n",
            "391/391 [==============================] - 3s 7ms/step - loss: nan - accuracy: 0.0995 - val_loss: nan - val_accuracy: 0.1023\n",
            "Epoch 34/40\n",
            "391/391 [==============================] - 3s 7ms/step - loss: nan - accuracy: 0.0979 - val_loss: nan - val_accuracy: 0.1023\n",
            "Epoch 35/40\n",
            "391/391 [==============================] - 3s 7ms/step - loss: nan - accuracy: 0.0991 - val_loss: nan - val_accuracy: 0.1023\n",
            "Epoch 36/40\n",
            "391/391 [==============================] - 3s 7ms/step - loss: nan - accuracy: 0.1012 - val_loss: nan - val_accuracy: 0.1023\n",
            "Epoch 37/40\n",
            "391/391 [==============================] - 3s 7ms/step - loss: nan - accuracy: 0.1015 - val_loss: nan - val_accuracy: 0.1023\n",
            "Epoch 38/40\n",
            "391/391 [==============================] - 3s 7ms/step - loss: nan - accuracy: 0.0983 - val_loss: nan - val_accuracy: 0.1023\n",
            "Epoch 39/40\n",
            "391/391 [==============================] - 3s 7ms/step - loss: nan - accuracy: 0.1014 - val_loss: nan - val_accuracy: 0.1023\n",
            "Epoch 40/40\n",
            "391/391 [==============================] - 3s 7ms/step - loss: nan - accuracy: 0.1001 - val_loss: nan - val_accuracy: 0.1023\n"
          ],
          "name": "stdout"
        }
      ]
    },
    {
      "cell_type": "code",
      "metadata": {
        "colab": {
          "base_uri": "https://localhost:8080/"
        },
        "id": "NsN8320DC0TN",
        "outputId": "609d5950-f73a-458c-c8b5-50a2f9d02998"
      },
      "source": [
        "model_1.summary()\n"
      ],
      "execution_count": 17,
      "outputs": [
        {
          "output_type": "stream",
          "text": [
            "Model: \"sequential\"\n",
            "_________________________________________________________________\n",
            "Layer (type)                 Output Shape              Param #   \n",
            "=================================================================\n",
            "dense (Dense)                (None, 256)               200960    \n",
            "_________________________________________________________________\n",
            "dense_1 (Dense)              (None, 128)               32896     \n",
            "_________________________________________________________________\n",
            "dense_2 (Dense)              (None, 10)                1290      \n",
            "=================================================================\n",
            "Total params: 235,146\n",
            "Trainable params: 235,146\n",
            "Non-trainable params: 0\n",
            "_________________________________________________________________\n"
          ],
          "name": "stdout"
        }
      ]
    },
    {
      "cell_type": "markdown",
      "metadata": {
        "id": "ah3T2AjNISt7"
      },
      "source": [
        "# Test1"
      ]
    },
    {
      "cell_type": "code",
      "metadata": {
        "colab": {
          "base_uri": "https://localhost:8080/"
        },
        "id": "JzvRaITVHa6S",
        "outputId": "f365b4b8-9772-4700-dab2-b50983b8b687"
      },
      "source": [
        "score1 = model_1.evaluate(test_images_model, test_labels_categ, verbose=0)\n",
        "# print('Test accuracy:', score[1])\n",
        "print(f'{score1[1]*100:.2f} % Accuracy on the Test set')\n",
        "# You should be able to get,at least, 88% accuracy Test accuracy: 0.8837000131607056"
      ],
      "execution_count": 18,
      "outputs": [
        {
          "output_type": "stream",
          "text": [
            "10.00 % Accuracy on the Test set\n"
          ],
          "name": "stdout"
        }
      ]
    },
    {
      "cell_type": "markdown",
      "metadata": {
        "id": "hJP1bCY0HcsJ"
      },
      "source": [
        "* Well this model with just relu activation function gave me 10% accuraccy, too bad, i'll create a second model, by increasing hidden layers and try other activations functions"
      ]
    },
    {
      "cell_type": "markdown",
      "metadata": {
        "id": "cxUkNmwBCXiZ"
      },
      "source": [
        "##Second Model"
      ]
    },
    {
      "cell_type": "code",
      "metadata": {
        "id": "9U7iDxIIFDDI"
      },
      "source": [
        "\n",
        "\n",
        "# Create a sequential model here \n",
        "model_2 = keras.models.Sequential([\n",
        "                                 keras.layers.Flatten(),\n",
        "                                 keras.layers.Dense(units = 128, activation = 'elu'),\n",
        "                                 keras.layers.Dropout(0.25),\n",
        "                                 keras.layers.Dense(units = 256, activation = 'relu'),\n",
        "                                 keras.layers.Dropout(0),\n",
        "                                 keras.layers.Dense(units = 256, activation = 'relu'),\n",
        "                                 keras.layers.Dropout(0.20), \n",
        "                                 keras.layers.Dense(units = 128, activation = 'relu'),\n",
        "                                 keras.layers.Dropout(0.10),\n",
        "                                 keras.layers.Dense(units = 10, activation = 'softmax') \n",
        "                                 ])   \n",
        "# End Code"
      ],
      "execution_count": 19,
      "outputs": []
    },
    {
      "cell_type": "code",
      "metadata": {
        "id": "gduAxXwxF-UQ",
        "colab": {
          "base_uri": "https://localhost:8080/"
        },
        "outputId": "a6ed9407-dca2-4789-8f29-51aaa50a8c0b"
      },
      "source": [
        "model_2.compile(loss='categorical_crossentropy',\n",
        "              optimizer=RMSprop(),\n",
        "              metrics=['accuracy'])\n",
        "\n",
        "history = model_2.fit(train_images_model, train_labels_categ,\n",
        "                    batch_size=batch_size,\n",
        "                    epochs=epochs,\n",
        "                    verbose=1,\n",
        "                    validation_data=(validation_images_model, validation_labels_categ))\n"
      ],
      "execution_count": 20,
      "outputs": [
        {
          "output_type": "stream",
          "text": [
            "Epoch 1/40\n",
            "391/391 [==============================] - 7s 11ms/step - loss: 0.8538 - accuracy: 0.6825 - val_loss: 0.5779 - val_accuracy: 0.7810\n",
            "Epoch 2/40\n",
            "391/391 [==============================] - 4s 10ms/step - loss: 0.4705 - accuracy: 0.8293 - val_loss: 0.4199 - val_accuracy: 0.8458\n",
            "Epoch 3/40\n",
            "391/391 [==============================] - 4s 10ms/step - loss: 0.4214 - accuracy: 0.8466 - val_loss: 0.3878 - val_accuracy: 0.8594\n",
            "Epoch 4/40\n",
            "391/391 [==============================] - 4s 10ms/step - loss: 0.3966 - accuracy: 0.8572 - val_loss: 0.3653 - val_accuracy: 0.8618\n",
            "Epoch 5/40\n",
            "391/391 [==============================] - 4s 10ms/step - loss: 0.3653 - accuracy: 0.8648 - val_loss: 0.3591 - val_accuracy: 0.8674\n",
            "Epoch 6/40\n",
            "391/391 [==============================] - 4s 10ms/step - loss: 0.3605 - accuracy: 0.8696 - val_loss: 0.3498 - val_accuracy: 0.8703\n",
            "Epoch 7/40\n",
            "391/391 [==============================] - 4s 10ms/step - loss: 0.3416 - accuracy: 0.8744 - val_loss: 0.3483 - val_accuracy: 0.8747\n",
            "Epoch 8/40\n",
            "391/391 [==============================] - 4s 9ms/step - loss: 0.3350 - accuracy: 0.8785 - val_loss: 0.3458 - val_accuracy: 0.8774\n",
            "Epoch 9/40\n",
            "391/391 [==============================] - 4s 10ms/step - loss: 0.3242 - accuracy: 0.8814 - val_loss: 0.3734 - val_accuracy: 0.8697\n",
            "Epoch 10/40\n",
            "391/391 [==============================] - 4s 10ms/step - loss: 0.3215 - accuracy: 0.8858 - val_loss: 0.3629 - val_accuracy: 0.8729\n",
            "Epoch 11/40\n",
            "391/391 [==============================] - 4s 9ms/step - loss: 0.3208 - accuracy: 0.8846 - val_loss: 0.3427 - val_accuracy: 0.8742\n",
            "Epoch 12/40\n",
            "391/391 [==============================] - 4s 9ms/step - loss: 0.3188 - accuracy: 0.8858 - val_loss: 0.3395 - val_accuracy: 0.8777\n",
            "Epoch 13/40\n",
            "391/391 [==============================] - 4s 9ms/step - loss: 0.3190 - accuracy: 0.8844 - val_loss: 0.3421 - val_accuracy: 0.8875\n",
            "Epoch 14/40\n",
            "391/391 [==============================] - 4s 10ms/step - loss: 0.3118 - accuracy: 0.8866 - val_loss: 0.3251 - val_accuracy: 0.8873\n",
            "Epoch 15/40\n",
            "391/391 [==============================] - 4s 10ms/step - loss: 0.3108 - accuracy: 0.8899 - val_loss: 0.3657 - val_accuracy: 0.8775\n",
            "Epoch 16/40\n",
            "391/391 [==============================] - 4s 10ms/step - loss: 0.3033 - accuracy: 0.8922 - val_loss: 0.3320 - val_accuracy: 0.8846\n",
            "Epoch 17/40\n",
            "391/391 [==============================] - 4s 9ms/step - loss: 0.3052 - accuracy: 0.8890 - val_loss: 0.3599 - val_accuracy: 0.8827\n",
            "Epoch 18/40\n",
            "391/391 [==============================] - 4s 10ms/step - loss: 0.3072 - accuracy: 0.8930 - val_loss: 0.3528 - val_accuracy: 0.8804\n",
            "Epoch 19/40\n",
            "391/391 [==============================] - 4s 10ms/step - loss: 0.3093 - accuracy: 0.8922 - val_loss: 0.3683 - val_accuracy: 0.8778\n",
            "Epoch 20/40\n",
            "391/391 [==============================] - 4s 10ms/step - loss: 0.3032 - accuracy: 0.8902 - val_loss: 0.3922 - val_accuracy: 0.8807\n",
            "Epoch 21/40\n",
            "391/391 [==============================] - 4s 10ms/step - loss: 0.3057 - accuracy: 0.8956 - val_loss: 0.3394 - val_accuracy: 0.8851\n",
            "Epoch 22/40\n",
            "391/391 [==============================] - 4s 10ms/step - loss: 0.3095 - accuracy: 0.8936 - val_loss: 0.3645 - val_accuracy: 0.8803\n",
            "Epoch 23/40\n",
            "391/391 [==============================] - 4s 10ms/step - loss: 0.3060 - accuracy: 0.8925 - val_loss: 0.3692 - val_accuracy: 0.8856\n",
            "Epoch 24/40\n",
            "391/391 [==============================] - 4s 10ms/step - loss: 0.2960 - accuracy: 0.8963 - val_loss: 0.3575 - val_accuracy: 0.8824\n",
            "Epoch 25/40\n",
            "391/391 [==============================] - 4s 10ms/step - loss: 0.3085 - accuracy: 0.8909 - val_loss: 0.3463 - val_accuracy: 0.8852\n",
            "Epoch 26/40\n",
            "391/391 [==============================] - 4s 9ms/step - loss: 0.3028 - accuracy: 0.8938 - val_loss: 0.3738 - val_accuracy: 0.8896\n",
            "Epoch 27/40\n",
            "391/391 [==============================] - 4s 10ms/step - loss: 0.3026 - accuracy: 0.8945 - val_loss: 0.3480 - val_accuracy: 0.8894\n",
            "Epoch 28/40\n",
            "391/391 [==============================] - 4s 10ms/step - loss: 0.3051 - accuracy: 0.8944 - val_loss: 0.3640 - val_accuracy: 0.8741\n",
            "Epoch 29/40\n",
            "391/391 [==============================] - 4s 10ms/step - loss: 0.2969 - accuracy: 0.8972 - val_loss: 0.4006 - val_accuracy: 0.8894\n",
            "Epoch 30/40\n",
            "391/391 [==============================] - 4s 10ms/step - loss: 0.3008 - accuracy: 0.8965 - val_loss: 0.4118 - val_accuracy: 0.8714\n",
            "Epoch 31/40\n",
            "391/391 [==============================] - 4s 9ms/step - loss: 0.3077 - accuracy: 0.8963 - val_loss: 0.3886 - val_accuracy: 0.8883\n",
            "Epoch 32/40\n",
            "391/391 [==============================] - 4s 10ms/step - loss: 0.3096 - accuracy: 0.8955 - val_loss: 0.3672 - val_accuracy: 0.8847\n",
            "Epoch 33/40\n",
            "391/391 [==============================] - 4s 10ms/step - loss: 0.3050 - accuracy: 0.8953 - val_loss: 0.3637 - val_accuracy: 0.8817\n",
            "Epoch 34/40\n",
            "391/391 [==============================] - 4s 10ms/step - loss: 0.3082 - accuracy: 0.8990 - val_loss: 0.4399 - val_accuracy: 0.8728\n",
            "Epoch 35/40\n",
            "391/391 [==============================] - 4s 10ms/step - loss: 0.2965 - accuracy: 0.8991 - val_loss: 0.3906 - val_accuracy: 0.8797\n",
            "Epoch 36/40\n",
            "391/391 [==============================] - 4s 9ms/step - loss: 0.3008 - accuracy: 0.8993 - val_loss: 0.3404 - val_accuracy: 0.8867\n",
            "Epoch 37/40\n",
            "391/391 [==============================] - 4s 10ms/step - loss: 0.2979 - accuracy: 0.8958 - val_loss: 0.3714 - val_accuracy: 0.8836\n",
            "Epoch 38/40\n",
            "391/391 [==============================] - 4s 10ms/step - loss: 0.2917 - accuracy: 0.9014 - val_loss: 0.3823 - val_accuracy: 0.8847\n",
            "Epoch 39/40\n",
            "391/391 [==============================] - 4s 10ms/step - loss: 0.3059 - accuracy: 0.8955 - val_loss: 0.3936 - val_accuracy: 0.8759\n",
            "Epoch 40/40\n",
            "391/391 [==============================] - 4s 9ms/step - loss: 0.3046 - accuracy: 0.8953 - val_loss: 0.4210 - val_accuracy: 0.8879\n"
          ],
          "name": "stdout"
        }
      ]
    },
    {
      "cell_type": "markdown",
      "metadata": {
        "id": "83c8_iVyMHLe"
      },
      "source": [
        "# Test2"
      ]
    },
    {
      "cell_type": "code",
      "metadata": {
        "colab": {
          "base_uri": "https://localhost:8080/"
        },
        "id": "TeeD-StiBZR8",
        "outputId": "d82929ba-7fd1-4d21-aa28-907e9ddc3c3b"
      },
      "source": [
        "score2 = model_2.evaluate(test_images_model, test_labels_categ, verbose=0)\n",
        "# print('Test accuracy:', score[1])\n",
        "print(f'{score2[1]*100:.2f} % Accuracy on the Test set')\n",
        "# You should be able to get,at least, 88% accuracy Test accuracy: 0.8837000131607056"
      ],
      "execution_count": 21,
      "outputs": [
        {
          "output_type": "stream",
          "text": [
            "88.04 % Accuracy on the Test set\n"
          ],
          "name": "stdout"
        }
      ]
    },
    {
      "cell_type": "code",
      "metadata": {
        "colab": {
          "base_uri": "https://localhost:8080/"
        },
        "id": "onA4sgw2BcbP",
        "outputId": "de08072b-275f-490e-ac99-4f47977e34e8"
      },
      "source": [
        "print('Loss: {:.2f}'.format(score2[0]))"
      ],
      "execution_count": 22,
      "outputs": [
        {
          "output_type": "stream",
          "text": [
            "Loss: 0.47\n"
          ],
          "name": "stdout"
        }
      ]
    },
    {
      "cell_type": "markdown",
      "metadata": {
        "id": "NnhjYrPeZNVi"
      },
      "source": [
        "**`Note`** : $88$ % good accuracy and loss $0.47$, try to change hyperparameters to reduce the cost and maybe incease the accuracy score"
      ]
    },
    {
      "cell_type": "markdown",
      "metadata": {
        "id": "HePMe8Es1alL"
      },
      "source": [
        "##Experimenent 2"
      ]
    },
    {
      "cell_type": "markdown",
      "metadata": {
        "id": "GfiH2z4DCg4o"
      },
      "source": [
        "##Third Model:"
      ]
    },
    {
      "cell_type": "code",
      "metadata": {
        "id": "G5ZB3xkL1UaA"
      },
      "source": [
        "output_dim = 10\n",
        "input_dim = train_images_model.shape[1]\n",
        "\n",
        "batch_size = 128 \n",
        "nb_epoch = 40"
      ],
      "execution_count": 23,
      "outputs": []
    },
    {
      "cell_type": "code",
      "metadata": {
        "colab": {
          "base_uri": "https://localhost:8080/"
        },
        "id": "ZPkXNdhB16Ag",
        "outputId": "f6b2f049-ade8-432c-fc08-0387418de308"
      },
      "source": [
        "from keras.initializers import RandomNormal\n",
        "model_3 = Sequential()\n",
        "model_3.add(Dense(1024, activation='relu', input_shape=(input_dim,), kernel_initializer=RandomNormal(mean=0.0, stddev=0.05, seed=None)))\n",
        "model_3.add(Dense(512, activation='relu', kernel_initializer=RandomNormal(mean=0.0, stddev=0.125, seed=None)) )\n",
        "model_3.add(Dense(output_dim, activation='softmax'))\n",
        "\n",
        "print(model_3.summary())"
      ],
      "execution_count": 24,
      "outputs": [
        {
          "output_type": "stream",
          "text": [
            "Model: \"sequential_2\"\n",
            "_________________________________________________________________\n",
            "Layer (type)                 Output Shape              Param #   \n",
            "=================================================================\n",
            "dense_8 (Dense)              (None, 1024)              803840    \n",
            "_________________________________________________________________\n",
            "dense_9 (Dense)              (None, 512)               524800    \n",
            "_________________________________________________________________\n",
            "dense_10 (Dense)             (None, 10)                5130      \n",
            "=================================================================\n",
            "Total params: 1,333,770\n",
            "Trainable params: 1,333,770\n",
            "Non-trainable params: 0\n",
            "_________________________________________________________________\n",
            "None\n"
          ],
          "name": "stdout"
        }
      ]
    },
    {
      "cell_type": "code",
      "metadata": {
        "colab": {
          "base_uri": "https://localhost:8080/"
        },
        "id": "qxZBCV1i2XE1",
        "outputId": "b7832f02-c369-48c1-d319-f7dcd5938974"
      },
      "source": [
        "model_3.compile(optimizer='adam', loss='categorical_crossentropy', metrics=['accuracy'])\n",
        "\n",
        "history = model_3.fit(train_images_model, train_labels_categ, \n",
        "                      batch_size=batch_size, \n",
        "                      epochs=nb_epoch, \n",
        "                      verbose=1, \n",
        "                      validation_data=(validation_images_model, validation_labels_categ))"
      ],
      "execution_count": 25,
      "outputs": [
        {
          "output_type": "stream",
          "text": [
            "Epoch 1/40\n",
            "391/391 [==============================] - 10s 23ms/step - loss: 0.7926 - accuracy: 0.7630 - val_loss: 0.3994 - val_accuracy: 0.8570\n",
            "Epoch 2/40\n",
            "391/391 [==============================] - 9s 22ms/step - loss: 0.3606 - accuracy: 0.8694 - val_loss: 0.3744 - val_accuracy: 0.8649\n",
            "Epoch 3/40\n",
            "391/391 [==============================] - 9s 22ms/step - loss: 0.3194 - accuracy: 0.8832 - val_loss: 0.3835 - val_accuracy: 0.8551\n",
            "Epoch 4/40\n",
            "391/391 [==============================] - 9s 22ms/step - loss: 0.2971 - accuracy: 0.8897 - val_loss: 0.3882 - val_accuracy: 0.8675\n",
            "Epoch 5/40\n",
            "391/391 [==============================] - 8s 22ms/step - loss: 0.2766 - accuracy: 0.8973 - val_loss: 0.3468 - val_accuracy: 0.8745\n",
            "Epoch 6/40\n",
            "391/391 [==============================] - 8s 21ms/step - loss: 0.2629 - accuracy: 0.8999 - val_loss: 0.3207 - val_accuracy: 0.8861\n",
            "Epoch 7/40\n",
            "391/391 [==============================] - 8s 22ms/step - loss: 0.2481 - accuracy: 0.9074 - val_loss: 0.3503 - val_accuracy: 0.8758\n",
            "Epoch 8/40\n",
            "391/391 [==============================] - 8s 21ms/step - loss: 0.2321 - accuracy: 0.9139 - val_loss: 0.3348 - val_accuracy: 0.8779\n",
            "Epoch 9/40\n",
            "391/391 [==============================] - 8s 21ms/step - loss: 0.2298 - accuracy: 0.9131 - val_loss: 0.3138 - val_accuracy: 0.8894\n",
            "Epoch 10/40\n",
            "391/391 [==============================] - 8s 21ms/step - loss: 0.2139 - accuracy: 0.9165 - val_loss: 0.3180 - val_accuracy: 0.8908\n",
            "Epoch 11/40\n",
            "391/391 [==============================] - 8s 21ms/step - loss: 0.2080 - accuracy: 0.9217 - val_loss: 0.3618 - val_accuracy: 0.8763\n",
            "Epoch 12/40\n",
            "391/391 [==============================] - 8s 22ms/step - loss: 0.1953 - accuracy: 0.9262 - val_loss: 0.3277 - val_accuracy: 0.8884\n",
            "Epoch 13/40\n",
            "391/391 [==============================] - 8s 22ms/step - loss: 0.1929 - accuracy: 0.9284 - val_loss: 0.3294 - val_accuracy: 0.8865\n",
            "Epoch 14/40\n",
            "391/391 [==============================] - 8s 22ms/step - loss: 0.1792 - accuracy: 0.9329 - val_loss: 0.3306 - val_accuracy: 0.8892\n",
            "Epoch 15/40\n",
            "391/391 [==============================] - 8s 22ms/step - loss: 0.1687 - accuracy: 0.9343 - val_loss: 0.3270 - val_accuracy: 0.8943\n",
            "Epoch 16/40\n",
            "391/391 [==============================] - 8s 22ms/step - loss: 0.1660 - accuracy: 0.9380 - val_loss: 0.3651 - val_accuracy: 0.8876\n",
            "Epoch 17/40\n",
            "391/391 [==============================] - 8s 21ms/step - loss: 0.1586 - accuracy: 0.9390 - val_loss: 0.3397 - val_accuracy: 0.8869\n",
            "Epoch 18/40\n",
            "391/391 [==============================] - 8s 22ms/step - loss: 0.1521 - accuracy: 0.9413 - val_loss: 0.3427 - val_accuracy: 0.8898\n",
            "Epoch 19/40\n",
            "391/391 [==============================] - 8s 21ms/step - loss: 0.1511 - accuracy: 0.9423 - val_loss: 0.3747 - val_accuracy: 0.8885\n",
            "Epoch 20/40\n",
            "391/391 [==============================] - 8s 22ms/step - loss: 0.1432 - accuracy: 0.9445 - val_loss: 0.3511 - val_accuracy: 0.8945\n",
            "Epoch 21/40\n",
            "391/391 [==============================] - 8s 22ms/step - loss: 0.1350 - accuracy: 0.9490 - val_loss: 0.3663 - val_accuracy: 0.8920\n",
            "Epoch 22/40\n",
            "391/391 [==============================] - 8s 22ms/step - loss: 0.1273 - accuracy: 0.9523 - val_loss: 0.3539 - val_accuracy: 0.8962\n",
            "Epoch 23/40\n",
            "391/391 [==============================] - 8s 21ms/step - loss: 0.1230 - accuracy: 0.9523 - val_loss: 0.3726 - val_accuracy: 0.8954\n",
            "Epoch 24/40\n",
            "391/391 [==============================] - 8s 21ms/step - loss: 0.1159 - accuracy: 0.9558 - val_loss: 0.3528 - val_accuracy: 0.8956\n",
            "Epoch 25/40\n",
            "391/391 [==============================] - 8s 21ms/step - loss: 0.1145 - accuracy: 0.9564 - val_loss: 0.3675 - val_accuracy: 0.8974\n",
            "Epoch 26/40\n",
            "391/391 [==============================] - 8s 22ms/step - loss: 0.1064 - accuracy: 0.9598 - val_loss: 0.3874 - val_accuracy: 0.8982\n",
            "Epoch 27/40\n",
            "391/391 [==============================] - 9s 22ms/step - loss: 0.1009 - accuracy: 0.9618 - val_loss: 0.4133 - val_accuracy: 0.8904\n",
            "Epoch 28/40\n",
            "391/391 [==============================] - 9s 22ms/step - loss: 0.1027 - accuracy: 0.9616 - val_loss: 0.4194 - val_accuracy: 0.8897\n",
            "Epoch 29/40\n",
            "391/391 [==============================] - 8s 22ms/step - loss: 0.1040 - accuracy: 0.9608 - val_loss: 0.4152 - val_accuracy: 0.8937\n",
            "Epoch 30/40\n",
            "391/391 [==============================] - 8s 22ms/step - loss: 0.0956 - accuracy: 0.9628 - val_loss: 0.4115 - val_accuracy: 0.8983\n",
            "Epoch 31/40\n",
            "391/391 [==============================] - 9s 22ms/step - loss: 0.0885 - accuracy: 0.9662 - val_loss: 0.4250 - val_accuracy: 0.8982\n",
            "Epoch 32/40\n",
            "391/391 [==============================] - 8s 22ms/step - loss: 0.0869 - accuracy: 0.9663 - val_loss: 0.4766 - val_accuracy: 0.8942\n",
            "Epoch 33/40\n",
            "391/391 [==============================] - 8s 21ms/step - loss: 0.0940 - accuracy: 0.9650 - val_loss: 0.4480 - val_accuracy: 0.8970\n",
            "Epoch 34/40\n",
            "391/391 [==============================] - 8s 22ms/step - loss: 0.0852 - accuracy: 0.9680 - val_loss: 0.4573 - val_accuracy: 0.8941\n",
            "Epoch 35/40\n",
            "391/391 [==============================] - 8s 22ms/step - loss: 0.0806 - accuracy: 0.9682 - val_loss: 0.4906 - val_accuracy: 0.8836\n",
            "Epoch 36/40\n",
            "391/391 [==============================] - 8s 22ms/step - loss: 0.0772 - accuracy: 0.9703 - val_loss: 0.4661 - val_accuracy: 0.8910\n",
            "Epoch 37/40\n",
            "391/391 [==============================] - 8s 22ms/step - loss: 0.0745 - accuracy: 0.9716 - val_loss: 0.4582 - val_accuracy: 0.8974\n",
            "Epoch 38/40\n",
            "391/391 [==============================] - 9s 22ms/step - loss: 0.0724 - accuracy: 0.9728 - val_loss: 0.4578 - val_accuracy: 0.8952\n",
            "Epoch 39/40\n",
            "391/391 [==============================] - 8s 22ms/step - loss: 0.0691 - accuracy: 0.9731 - val_loss: 0.5028 - val_accuracy: 0.8932\n",
            "Epoch 40/40\n",
            "391/391 [==============================] - 9s 22ms/step - loss: 0.0769 - accuracy: 0.9706 - val_loss: 0.5059 - val_accuracy: 0.8911\n"
          ],
          "name": "stdout"
        }
      ]
    },
    {
      "cell_type": "code",
      "metadata": {
        "colab": {
          "base_uri": "https://localhost:8080/"
        },
        "id": "muZ79glk3x8k",
        "outputId": "1ad2c9c7-818b-4b62-f22c-714579c1b77a"
      },
      "source": [
        "score3 = model_3.evaluate(test_images_model, test_labels_categ, verbose=0)\n",
        "# print('Test accuracy:', score[1])\n",
        "print(f'{score3[1]*100:.2f} % Accuracy on the Test set')\n",
        "# You should be able to get,at least, 88% accuracy Test accuracy: 0.8837000131607056"
      ],
      "execution_count": 26,
      "outputs": [
        {
          "output_type": "stream",
          "text": [
            "88.65 % Accuracy on the Test set\n"
          ],
          "name": "stdout"
        }
      ]
    },
    {
      "cell_type": "code",
      "metadata": {
        "colab": {
          "base_uri": "https://localhost:8080/"
        },
        "id": "zteR2vhe5Xns",
        "outputId": "4602c7fd-d8c8-4caf-e693-04427e744ea6"
      },
      "source": [
        "print('Loss: {:.2f}'.format(score3[0]))"
      ],
      "execution_count": 27,
      "outputs": [
        {
          "output_type": "stream",
          "text": [
            "Loss: 0.56\n"
          ],
          "name": "stdout"
        }
      ]
    },
    {
      "cell_type": "markdown",
      "metadata": {
        "id": "vH1PlCfKV6hj"
      },
      "source": [
        "`Note`: good accuraccy $\\approx$ $88.6$% but the loss $(0.65)$ is high then the model 2 and we want to reduce the loss."
      ]
    },
    {
      "cell_type": "markdown",
      "metadata": {
        "id": "d5lamFTP4Hrl"
      },
      "source": [
        "##Experiment 3"
      ]
    },
    {
      "cell_type": "markdown",
      "metadata": {
        "id": "o9oBcGPGClSZ"
      },
      "source": [
        "##Forth Model"
      ]
    },
    {
      "cell_type": "code",
      "metadata": {
        "colab": {
          "base_uri": "https://localhost:8080/"
        },
        "id": "P92GUH-k4Jc1",
        "outputId": "1c9f3d9a-7762-4392-908f-2cca5f2ae87a"
      },
      "source": [
        "model_4 = Sequential()\n",
        "model_4.add(Dense(256, activation='relu', \n",
        "                  input_shape=(input_dim,), \n",
        "                  kernel_initializer= RandomNormal(mean=0.0, stddev=0.062, seed=None)))\n",
        "\n",
        "model_4.add(Dense(128, activation='relu', \n",
        "                  kernel_initializer= RandomNormal(mean=0.0, stddev=0.125, seed=None)) )\n",
        "model_4.add(Dense(output_dim, activation='softmax'))\n",
        "\n",
        "print(model_4.summary())"
      ],
      "execution_count": 28,
      "outputs": [
        {
          "output_type": "stream",
          "text": [
            "Model: \"sequential_3\"\n",
            "_________________________________________________________________\n",
            "Layer (type)                 Output Shape              Param #   \n",
            "=================================================================\n",
            "dense_11 (Dense)             (None, 256)               200960    \n",
            "_________________________________________________________________\n",
            "dense_12 (Dense)             (None, 128)               32896     \n",
            "_________________________________________________________________\n",
            "dense_13 (Dense)             (None, 10)                1290      \n",
            "=================================================================\n",
            "Total params: 235,146\n",
            "Trainable params: 235,146\n",
            "Non-trainable params: 0\n",
            "_________________________________________________________________\n",
            "None\n"
          ],
          "name": "stdout"
        }
      ]
    },
    {
      "cell_type": "code",
      "metadata": {
        "colab": {
          "base_uri": "https://localhost:8080/"
        },
        "id": "s8IhM99t4JZx",
        "outputId": "ffd35beb-de44-4f71-91f2-092cf673a9f4"
      },
      "source": [
        "model_4.compile(optimizer = 'adam', \n",
        "                loss = 'categorical_crossentropy', \n",
        "                metrics = ['accuracy'])\n",
        "\n",
        "history = model_4.fit(train_images_model, train_labels_categ, \n",
        "                      batch_size= batch_size, \n",
        "                      epochs= nb_epoch, \n",
        "                      verbose= 1, \n",
        "                      validation_data=(validation_images_model, validation_labels_categ))"
      ],
      "execution_count": 29,
      "outputs": [
        {
          "output_type": "stream",
          "text": [
            "Epoch 1/40\n",
            "391/391 [==============================] - 3s 7ms/step - loss: 0.6863 - accuracy: 0.7608 - val_loss: 0.4162 - val_accuracy: 0.8542\n",
            "Epoch 2/40\n",
            "391/391 [==============================] - 2s 5ms/step - loss: 0.3883 - accuracy: 0.8622 - val_loss: 0.3679 - val_accuracy: 0.8680\n",
            "Epoch 3/40\n",
            "391/391 [==============================] - 2s 6ms/step - loss: 0.3378 - accuracy: 0.8765 - val_loss: 0.3420 - val_accuracy: 0.8774\n",
            "Epoch 4/40\n",
            "391/391 [==============================] - 2s 6ms/step - loss: 0.3081 - accuracy: 0.8890 - val_loss: 0.3382 - val_accuracy: 0.8767\n",
            "Epoch 5/40\n",
            "391/391 [==============================] - 2s 6ms/step - loss: 0.2842 - accuracy: 0.8953 - val_loss: 0.3404 - val_accuracy: 0.8786\n",
            "Epoch 6/40\n",
            "391/391 [==============================] - 2s 5ms/step - loss: 0.2787 - accuracy: 0.8982 - val_loss: 0.3222 - val_accuracy: 0.8844\n",
            "Epoch 7/40\n",
            "391/391 [==============================] - 2s 5ms/step - loss: 0.2564 - accuracy: 0.9063 - val_loss: 0.3224 - val_accuracy: 0.8853\n",
            "Epoch 8/40\n",
            "391/391 [==============================] - 2s 6ms/step - loss: 0.2461 - accuracy: 0.9080 - val_loss: 0.3378 - val_accuracy: 0.8807\n",
            "Epoch 9/40\n",
            "391/391 [==============================] - 2s 6ms/step - loss: 0.2330 - accuracy: 0.9131 - val_loss: 0.3277 - val_accuracy: 0.8843\n",
            "Epoch 10/40\n",
            "391/391 [==============================] - 2s 6ms/step - loss: 0.2256 - accuracy: 0.9158 - val_loss: 0.3128 - val_accuracy: 0.8902\n",
            "Epoch 11/40\n",
            "391/391 [==============================] - 2s 5ms/step - loss: 0.2156 - accuracy: 0.9200 - val_loss: 0.3167 - val_accuracy: 0.8909\n",
            "Epoch 12/40\n",
            "391/391 [==============================] - 2s 5ms/step - loss: 0.2096 - accuracy: 0.9211 - val_loss: 0.3169 - val_accuracy: 0.8909\n",
            "Epoch 13/40\n",
            "391/391 [==============================] - 2s 5ms/step - loss: 0.1973 - accuracy: 0.9256 - val_loss: 0.3277 - val_accuracy: 0.8898\n",
            "Epoch 14/40\n",
            "391/391 [==============================] - 2s 6ms/step - loss: 0.1880 - accuracy: 0.9301 - val_loss: 0.3362 - val_accuracy: 0.8861\n",
            "Epoch 15/40\n",
            "391/391 [==============================] - 2s 6ms/step - loss: 0.1796 - accuracy: 0.9331 - val_loss: 0.3414 - val_accuracy: 0.8874\n",
            "Epoch 16/40\n",
            "391/391 [==============================] - 2s 6ms/step - loss: 0.1786 - accuracy: 0.9313 - val_loss: 0.3298 - val_accuracy: 0.8930\n",
            "Epoch 17/40\n",
            "391/391 [==============================] - 2s 6ms/step - loss: 0.1749 - accuracy: 0.9355 - val_loss: 0.3308 - val_accuracy: 0.8927\n",
            "Epoch 18/40\n",
            "391/391 [==============================] - 2s 5ms/step - loss: 0.1645 - accuracy: 0.9392 - val_loss: 0.3445 - val_accuracy: 0.8876\n",
            "Epoch 19/40\n",
            "391/391 [==============================] - 2s 5ms/step - loss: 0.1556 - accuracy: 0.9408 - val_loss: 0.3381 - val_accuracy: 0.8931\n",
            "Epoch 20/40\n",
            "391/391 [==============================] - 2s 5ms/step - loss: 0.1527 - accuracy: 0.9430 - val_loss: 0.3617 - val_accuracy: 0.8886\n",
            "Epoch 21/40\n",
            "391/391 [==============================] - 2s 6ms/step - loss: 0.1525 - accuracy: 0.9420 - val_loss: 0.3663 - val_accuracy: 0.8922\n",
            "Epoch 22/40\n",
            "391/391 [==============================] - 2s 6ms/step - loss: 0.1421 - accuracy: 0.9472 - val_loss: 0.3869 - val_accuracy: 0.8914\n",
            "Epoch 23/40\n",
            "391/391 [==============================] - 2s 6ms/step - loss: 0.1390 - accuracy: 0.9470 - val_loss: 0.3764 - val_accuracy: 0.8891\n",
            "Epoch 24/40\n",
            "391/391 [==============================] - 2s 6ms/step - loss: 0.1386 - accuracy: 0.9476 - val_loss: 0.3764 - val_accuracy: 0.8926\n",
            "Epoch 25/40\n",
            "391/391 [==============================] - 2s 5ms/step - loss: 0.1300 - accuracy: 0.9508 - val_loss: 0.3711 - val_accuracy: 0.8931\n",
            "Epoch 26/40\n",
            "391/391 [==============================] - 2s 5ms/step - loss: 0.1284 - accuracy: 0.9514 - val_loss: 0.3974 - val_accuracy: 0.8912\n",
            "Epoch 27/40\n",
            "391/391 [==============================] - 2s 6ms/step - loss: 0.1203 - accuracy: 0.9546 - val_loss: 0.3934 - val_accuracy: 0.8938\n",
            "Epoch 28/40\n",
            "391/391 [==============================] - 2s 6ms/step - loss: 0.1129 - accuracy: 0.9568 - val_loss: 0.3676 - val_accuracy: 0.8934\n",
            "Epoch 29/40\n",
            "391/391 [==============================] - 2s 6ms/step - loss: 0.1066 - accuracy: 0.9589 - val_loss: 0.4017 - val_accuracy: 0.8939\n",
            "Epoch 30/40\n",
            "391/391 [==============================] - 2s 6ms/step - loss: 0.1094 - accuracy: 0.9576 - val_loss: 0.4129 - val_accuracy: 0.8904\n",
            "Epoch 31/40\n",
            "391/391 [==============================] - 2s 5ms/step - loss: 0.1057 - accuracy: 0.9617 - val_loss: 0.4112 - val_accuracy: 0.8953\n",
            "Epoch 32/40\n",
            "391/391 [==============================] - 2s 5ms/step - loss: 0.1010 - accuracy: 0.9625 - val_loss: 0.4379 - val_accuracy: 0.8892\n",
            "Epoch 33/40\n",
            "391/391 [==============================] - 2s 5ms/step - loss: 0.0999 - accuracy: 0.9624 - val_loss: 0.4212 - val_accuracy: 0.8933\n",
            "Epoch 34/40\n",
            "391/391 [==============================] - 2s 5ms/step - loss: 0.1009 - accuracy: 0.9630 - val_loss: 0.4190 - val_accuracy: 0.8943\n",
            "Epoch 35/40\n",
            "391/391 [==============================] - 2s 6ms/step - loss: 0.0911 - accuracy: 0.9671 - val_loss: 0.4258 - val_accuracy: 0.8930\n",
            "Epoch 36/40\n",
            "391/391 [==============================] - 2s 5ms/step - loss: 0.0923 - accuracy: 0.9656 - val_loss: 0.4478 - val_accuracy: 0.8932\n",
            "Epoch 37/40\n",
            "391/391 [==============================] - 2s 6ms/step - loss: 0.0859 - accuracy: 0.9668 - val_loss: 0.4530 - val_accuracy: 0.8947\n",
            "Epoch 38/40\n",
            "391/391 [==============================] - 2s 5ms/step - loss: 0.0913 - accuracy: 0.9645 - val_loss: 0.4253 - val_accuracy: 0.8974\n",
            "Epoch 39/40\n",
            "391/391 [==============================] - 2s 6ms/step - loss: 0.0852 - accuracy: 0.9683 - val_loss: 0.4558 - val_accuracy: 0.8950\n",
            "Epoch 40/40\n",
            "391/391 [==============================] - 2s 5ms/step - loss: 0.0823 - accuracy: 0.9690 - val_loss: 0.4900 - val_accuracy: 0.8908\n"
          ],
          "name": "stdout"
        }
      ]
    },
    {
      "cell_type": "code",
      "metadata": {
        "colab": {
          "base_uri": "https://localhost:8080/"
        },
        "id": "jwNVrAbt4JXG",
        "outputId": "1906c660-3a9f-4cb8-b4b3-f45401a55e71"
      },
      "source": [
        "score4 = model_4.evaluate(test_images_model, test_labels_categ, verbose=0)\n",
        "# print('Test accuracy:', score[1])\n",
        "print(f'{score4[1]*100:.2f} % Accuracy on the Test set')\n",
        "# You should be able to get,at least, 88% accuracy Test accuracy: 0.8837000131607056"
      ],
      "execution_count": 30,
      "outputs": [
        {
          "output_type": "stream",
          "text": [
            "88.52 % Accuracy on the Test set\n"
          ],
          "name": "stdout"
        }
      ]
    },
    {
      "cell_type": "code",
      "metadata": {
        "colab": {
          "base_uri": "https://localhost:8080/"
        },
        "id": "VgPOjpKn5dTB",
        "outputId": "25e74e91-99d7-4a92-fb4a-6b395fd0a362"
      },
      "source": [
        "print('Loss: {:.2f}'.format(score4[0]))"
      ],
      "execution_count": 31,
      "outputs": [
        {
          "output_type": "stream",
          "text": [
            "Loss: 0.52\n"
          ],
          "name": "stdout"
        }
      ]
    },
    {
      "cell_type": "markdown",
      "metadata": {
        "id": "Hlx1wkffW56O"
      },
      "source": [
        "`Note`: Also good accuracy and loss is less then the model 3 but still high "
      ]
    },
    {
      "cell_type": "markdown",
      "metadata": {
        "id": "uMBdxcQKLO45"
      },
      "source": [
        "#other model with updating learning rate"
      ]
    },
    {
      "cell_type": "code",
      "metadata": {
        "id": "SrgPewXxLOPF"
      },
      "source": [
        "model_n = Sequential()\n",
        "\n",
        "model_n.add(Dense(512, activation='relu'))\n",
        "\n",
        "model_n.add(Dropout(0.5))\n",
        "model_n.add(Dense(128, activation='relu'))\n",
        "\n",
        "model_n.add(Dropout(0.5))\n",
        "model_n.add(Dense(10, activation='softmax'))"
      ],
      "execution_count": 32,
      "outputs": []
    },
    {
      "cell_type": "code",
      "metadata": {
        "id": "-_aIMzH_Su26"
      },
      "source": [
        "from keras.optimizers import Adam"
      ],
      "execution_count": 33,
      "outputs": []
    },
    {
      "cell_type": "code",
      "metadata": {
        "id": "FhzhrudoNloC"
      },
      "source": [
        "# Optimizer\n",
        "optimizer = Adam(learning_rate=0.001, \n",
        "                 beta_1=0.9, \n",
        "                 beta_2=0.999 )"
      ],
      "execution_count": 34,
      "outputs": []
    },
    {
      "cell_type": "code",
      "metadata": {
        "id": "ys2LB-wrNxWA"
      },
      "source": [
        "# Compiling the model\n",
        "model_n.compile(optimizer=optimizer, \n",
        "                loss=\"categorical_crossentropy\", \n",
        "                metrics=[\"accuracy\"])"
      ],
      "execution_count": 35,
      "outputs": []
    },
    {
      "cell_type": "code",
      "metadata": {
        "id": "9296ch5wTiaj"
      },
      "source": [
        "from keras.callbacks import LearningRateScheduler\n",
        "reduce_lr = LearningRateScheduler(lambda x: 1e-3 * 0.9 ** x)\n",
        "# this update learning rate at every epoch stage"
      ],
      "execution_count": 36,
      "outputs": []
    },
    {
      "cell_type": "code",
      "metadata": {
        "colab": {
          "base_uri": "https://localhost:8080/"
        },
        "id": "23hvogTPTIMl",
        "outputId": "2722981f-9b87-4a76-c4d4-72bff0c29504"
      },
      "source": [
        "history = model_n.fit(train_images_model, train_labels_categ, \n",
        "                      batch_size=128, \n",
        "                      epochs= 40, \n",
        "                      verbose= 2, \n",
        "                      validation_data=(validation_images_model, validation_labels_categ),\n",
        "                      callbacks = [reduce_lr])"
      ],
      "execution_count": 37,
      "outputs": [
        {
          "output_type": "stream",
          "text": [
            "Epoch 1/40\n",
            "391/391 - 5s - loss: 0.7332 - accuracy: 0.7378 - val_loss: 0.4473 - val_accuracy: 0.8365\n",
            "Epoch 2/40\n",
            "391/391 - 3s - loss: 0.4994 - accuracy: 0.8230 - val_loss: 0.4117 - val_accuracy: 0.8508\n",
            "Epoch 3/40\n",
            "391/391 - 3s - loss: 0.4445 - accuracy: 0.8405 - val_loss: 0.3763 - val_accuracy: 0.8634\n",
            "Epoch 4/40\n",
            "391/391 - 3s - loss: 0.4193 - accuracy: 0.8505 - val_loss: 0.3581 - val_accuracy: 0.8684\n",
            "Epoch 5/40\n",
            "391/391 - 3s - loss: 0.3933 - accuracy: 0.8590 - val_loss: 0.3526 - val_accuracy: 0.8697\n",
            "Epoch 6/40\n",
            "391/391 - 3s - loss: 0.3774 - accuracy: 0.8645 - val_loss: 0.3466 - val_accuracy: 0.8677\n",
            "Epoch 7/40\n",
            "391/391 - 3s - loss: 0.3637 - accuracy: 0.8691 - val_loss: 0.3323 - val_accuracy: 0.8784\n",
            "Epoch 8/40\n",
            "391/391 - 3s - loss: 0.3538 - accuracy: 0.8722 - val_loss: 0.3298 - val_accuracy: 0.8800\n",
            "Epoch 9/40\n",
            "391/391 - 3s - loss: 0.3430 - accuracy: 0.8767 - val_loss: 0.3243 - val_accuracy: 0.8824\n",
            "Epoch 10/40\n",
            "391/391 - 3s - loss: 0.3329 - accuracy: 0.8787 - val_loss: 0.3216 - val_accuracy: 0.8848\n",
            "Epoch 11/40\n",
            "391/391 - 3s - loss: 0.3228 - accuracy: 0.8828 - val_loss: 0.3148 - val_accuracy: 0.8841\n",
            "Epoch 12/40\n",
            "391/391 - 3s - loss: 0.3173 - accuracy: 0.8845 - val_loss: 0.3105 - val_accuracy: 0.8875\n",
            "Epoch 13/40\n",
            "391/391 - 3s - loss: 0.3131 - accuracy: 0.8865 - val_loss: 0.3086 - val_accuracy: 0.8873\n",
            "Epoch 14/40\n",
            "391/391 - 3s - loss: 0.3035 - accuracy: 0.8899 - val_loss: 0.3073 - val_accuracy: 0.8892\n",
            "Epoch 15/40\n",
            "391/391 - 3s - loss: 0.2958 - accuracy: 0.8920 - val_loss: 0.3082 - val_accuracy: 0.8872\n",
            "Epoch 16/40\n",
            "391/391 - 3s - loss: 0.2921 - accuracy: 0.8937 - val_loss: 0.3041 - val_accuracy: 0.8900\n",
            "Epoch 17/40\n",
            "391/391 - 3s - loss: 0.2876 - accuracy: 0.8946 - val_loss: 0.3033 - val_accuracy: 0.8900\n",
            "Epoch 18/40\n",
            "391/391 - 3s - loss: 0.2836 - accuracy: 0.8969 - val_loss: 0.3023 - val_accuracy: 0.8907\n",
            "Epoch 19/40\n",
            "391/391 - 3s - loss: 0.2809 - accuracy: 0.8970 - val_loss: 0.2992 - val_accuracy: 0.8911\n",
            "Epoch 20/40\n",
            "391/391 - 3s - loss: 0.2775 - accuracy: 0.8978 - val_loss: 0.2970 - val_accuracy: 0.8922\n",
            "Epoch 21/40\n",
            "391/391 - 3s - loss: 0.2718 - accuracy: 0.9002 - val_loss: 0.2982 - val_accuracy: 0.8924\n",
            "Epoch 22/40\n",
            "391/391 - 3s - loss: 0.2729 - accuracy: 0.9003 - val_loss: 0.2952 - val_accuracy: 0.8933\n",
            "Epoch 23/40\n",
            "391/391 - 3s - loss: 0.2674 - accuracy: 0.9035 - val_loss: 0.2987 - val_accuracy: 0.8921\n",
            "Epoch 24/40\n",
            "391/391 - 3s - loss: 0.2654 - accuracy: 0.9023 - val_loss: 0.2946 - val_accuracy: 0.8932\n",
            "Epoch 25/40\n",
            "391/391 - 3s - loss: 0.2618 - accuracy: 0.9038 - val_loss: 0.2944 - val_accuracy: 0.8944\n",
            "Epoch 26/40\n",
            "391/391 - 3s - loss: 0.2586 - accuracy: 0.9056 - val_loss: 0.2954 - val_accuracy: 0.8925\n",
            "Epoch 27/40\n",
            "391/391 - 3s - loss: 0.2610 - accuracy: 0.9052 - val_loss: 0.2938 - val_accuracy: 0.8946\n",
            "Epoch 28/40\n",
            "391/391 - 3s - loss: 0.2577 - accuracy: 0.9064 - val_loss: 0.2947 - val_accuracy: 0.8936\n",
            "Epoch 29/40\n",
            "391/391 - 3s - loss: 0.2551 - accuracy: 0.9066 - val_loss: 0.2926 - val_accuracy: 0.8933\n",
            "Epoch 30/40\n",
            "391/391 - 3s - loss: 0.2534 - accuracy: 0.9080 - val_loss: 0.2929 - val_accuracy: 0.8939\n",
            "Epoch 31/40\n",
            "391/391 - 3s - loss: 0.2516 - accuracy: 0.9070 - val_loss: 0.2928 - val_accuracy: 0.8952\n",
            "Epoch 32/40\n",
            "391/391 - 3s - loss: 0.2516 - accuracy: 0.9080 - val_loss: 0.2930 - val_accuracy: 0.8938\n",
            "Epoch 33/40\n",
            "391/391 - 3s - loss: 0.2507 - accuracy: 0.9098 - val_loss: 0.2925 - val_accuracy: 0.8937\n",
            "Epoch 34/40\n",
            "391/391 - 3s - loss: 0.2503 - accuracy: 0.9076 - val_loss: 0.2914 - val_accuracy: 0.8943\n",
            "Epoch 35/40\n",
            "391/391 - 3s - loss: 0.2479 - accuracy: 0.9087 - val_loss: 0.2920 - val_accuracy: 0.8946\n",
            "Epoch 36/40\n",
            "391/391 - 3s - loss: 0.2480 - accuracy: 0.9090 - val_loss: 0.2921 - val_accuracy: 0.8948\n",
            "Epoch 37/40\n",
            "391/391 - 3s - loss: 0.2483 - accuracy: 0.9091 - val_loss: 0.2923 - val_accuracy: 0.8946\n",
            "Epoch 38/40\n",
            "391/391 - 3s - loss: 0.2451 - accuracy: 0.9107 - val_loss: 0.2917 - val_accuracy: 0.8948\n",
            "Epoch 39/40\n",
            "391/391 - 3s - loss: 0.2475 - accuracy: 0.9092 - val_loss: 0.2916 - val_accuracy: 0.8946\n",
            "Epoch 40/40\n",
            "391/391 - 3s - loss: 0.2465 - accuracy: 0.9095 - val_loss: 0.2913 - val_accuracy: 0.8954\n"
          ],
          "name": "stdout"
        }
      ]
    },
    {
      "cell_type": "code",
      "metadata": {
        "colab": {
          "base_uri": "https://localhost:8080/"
        },
        "id": "-L6wZbXROHlL",
        "outputId": "3ca4fc5d-3184-4973-b1ae-34ed6835c67c"
      },
      "source": [
        "model_n.summary()"
      ],
      "execution_count": 38,
      "outputs": [
        {
          "output_type": "stream",
          "text": [
            "Model: \"sequential_4\"\n",
            "_________________________________________________________________\n",
            "Layer (type)                 Output Shape              Param #   \n",
            "=================================================================\n",
            "dense_14 (Dense)             (None, 512)               401920    \n",
            "_________________________________________________________________\n",
            "dropout_4 (Dropout)          (None, 512)               0         \n",
            "_________________________________________________________________\n",
            "dense_15 (Dense)             (None, 128)               65664     \n",
            "_________________________________________________________________\n",
            "dropout_5 (Dropout)          (None, 128)               0         \n",
            "_________________________________________________________________\n",
            "dense_16 (Dense)             (None, 10)                1290      \n",
            "=================================================================\n",
            "Total params: 468,874\n",
            "Trainable params: 468,874\n",
            "Non-trainable params: 0\n",
            "_________________________________________________________________\n"
          ],
          "name": "stdout"
        }
      ]
    },
    {
      "cell_type": "code",
      "metadata": {
        "colab": {
          "base_uri": "https://localhost:8080/"
        },
        "id": "mEVZoNUcOHgI",
        "outputId": "ffb746b4-610e-497e-fcde-947334b904e9"
      },
      "source": [
        "score_n = model_n.evaluate(test_images_model, test_labels_categ, verbose=0)\n",
        "# print('Test accuracy:', score[1])\n",
        "print(f'{score_n[1]*100:.2f} % Accuracy on the Test set')\n",
        "# You should be able to get,at least, 88% accuracy Test accuracy: 0.8837000131607056"
      ],
      "execution_count": 39,
      "outputs": [
        {
          "output_type": "stream",
          "text": [
            "88.93 % Accuracy on the Test set\n"
          ],
          "name": "stdout"
        }
      ]
    },
    {
      "cell_type": "code",
      "metadata": {
        "colab": {
          "base_uri": "https://localhost:8080/"
        },
        "id": "rD8fdu9OOHcn",
        "outputId": "a65ed767-f08e-4d1f-c422-6b12486a5ca8"
      },
      "source": [
        "print('Loss: {:.2f}'.format(score_n[0]))"
      ],
      "execution_count": 40,
      "outputs": [
        {
          "output_type": "stream",
          "text": [
            "Loss: 0.31\n"
          ],
          "name": "stdout"
        }
      ]
    },
    {
      "cell_type": "markdown",
      "metadata": {
        "id": "PxjidQAtXPJ_"
      },
      "source": [
        "**`Note`**: Well this is the best Hyperparameters i guess,the model is  88.9% accurate and the cost is $=$ $0.31$ is reduced other than the above models, and that's it."
      ]
    },
    {
      "cell_type": "markdown",
      "metadata": {
        "id": "XslxJNYYX3HP"
      },
      "source": [
        "# apply GridSearch cv to see what best hyperparameters"
      ]
    },
    {
      "cell_type": "code",
      "metadata": {
        "id": "0Wc1dkunP0WJ"
      },
      "source": [
        "from keras.wrappers.scikit_learn import KerasClassifier\n",
        "from sklearn.model_selection import GridSearchCV\n",
        "from keras.optimizers import *"
      ],
      "execution_count": 41,
      "outputs": []
    },
    {
      "cell_type": "code",
      "metadata": {
        "id": "BRtt7brAT6Uk"
      },
      "source": [
        "# rebuild another Neural Network model to apply GridSearch on it\n",
        "def build_model(optimizer, learning_rate, activation, dropout_rate,\n",
        "                initializer,num_unit):\n",
        "    keras.backend.clear_session()\n",
        "    model = Sequential()\n",
        "    model.add(Dense(num_unit, kernel_initializer=initializer,\n",
        "                    activation=activation, input_shape=(784,)))\n",
        "    model.add(Dropout(dropout_rate))\n",
        "    model.add(Dense(num_unit, kernel_initializer=initializer,\n",
        "                    activation=activation))\n",
        "    model.add(Dropout(dropout_rate)) \n",
        "    model.add(Dense(10, activation='softmax'))\n",
        "    model.compile(loss='categorical_crossentropy',\n",
        "                  optimizer=optimizer(learning_rate= learning_rate),\n",
        "                  metrics=['accuracy'])\n",
        "    return model"
      ],
      "execution_count": 42,
      "outputs": []
    },
    {
      "cell_type": "code",
      "metadata": {
        "id": "CyA8DfZPULP-"
      },
      "source": [
        "# Hyper-Parameters\n",
        "# [:1] is for testing\n",
        "\n",
        "batch_size = [20, 50, 100][:1]\n",
        "epochs = [1, 20, 50][:1]\n",
        "initializer = ['lecun_uniform', 'normal', 'he_normal', 'he_uniform'][:1]\n",
        "\n",
        "learning_rate = [0.1, 0.001, 0.02][:1]\n",
        "dropout_rate = [0.3, 0.2, 0.8][:1]\n",
        "\n",
        "num_unit = [10, 5][:1]\n",
        "\n",
        "activation = ['relu', 'tanh', 'sigmoid', 'hard_sigmoid', 'linear'][:1]\n",
        "optimizer = [SGD, RMSprop, Adagrad, Adadelta, Adam, Adamax, Nadam][:1]"
      ],
      "execution_count": 43,
      "outputs": []
    },
    {
      "cell_type": "code",
      "metadata": {
        "id": "rnz9yECtUV6d"
      },
      "source": [
        "# Creat the wrapper and pass parameters to GridSearchCV \n",
        "# parameters is a dictionary with the entire values\n",
        "\n",
        "parameters = dict(batch_size = batch_size,\n",
        "                  epochs = epochs,\n",
        "                  dropout_rate = dropout_rate,\n",
        "                  num_unit = num_unit,\n",
        "                  initializer = initializer,\n",
        "                  learning_rate = learning_rate,\n",
        "                  activation = activation,\n",
        "                  optimizer = optimizer)\n",
        "\n",
        "model4 = KerasClassifier(build_fn=build_model, verbose=0)\n",
        "\n",
        "models = GridSearchCV(estimator = model4, param_grid=parameters, n_jobs=1)"
      ],
      "execution_count": 44,
      "outputs": []
    },
    {
      "cell_type": "code",
      "metadata": {
        "id": "6J0ry3OjVWeZ"
      },
      "source": [
        "import pprint\n",
        "pp = pprint.PrettyPrinter(indent = 4)"
      ],
      "execution_count": 45,
      "outputs": []
    },
    {
      "cell_type": "markdown",
      "metadata": {
        "id": "j2DnMvIUXQte"
      },
      "source": [
        "###Train the Models "
      ]
    },
    {
      "cell_type": "code",
      "metadata": {
        "colab": {
          "base_uri": "https://localhost:8080/"
        },
        "id": "oHUYredaU5eg",
        "outputId": "13addd56-3ae0-4066-e5a8-f072c0aeafa1"
      },
      "source": [
        "best_model = models.fit(train_images_model, train_labels_categ)\n",
        "print(\"=\"*40, '\\nThe Best  hypper-parameter values are :\\n',\"=\"*40)\n",
        "pp.pprint(best_model.best_params_)"
      ],
      "execution_count": 46,
      "outputs": [
        {
          "output_type": "stream",
          "text": [
            "======================================== \n",
            "The Best  hypper-parameter values are :\n",
            " ========================================\n",
            "{   'activation': 'relu',\n",
            "    'batch_size': 20,\n",
            "    'dropout_rate': 0.3,\n",
            "    'epochs': 1,\n",
            "    'initializer': 'lecun_uniform',\n",
            "    'learning_rate': 0.1,\n",
            "    'num_unit': 10,\n",
            "    'optimizer': <class 'tensorflow.python.keras.optimizer_v2.gradient_descent.SGD'>}\n"
          ],
          "name": "stdout"
        }
      ]
    },
    {
      "cell_type": "code",
      "metadata": {
        "id": "hCkUF3v1G5dF"
      },
      "source": [
        "test_logits = model_n.predict(test_images_flatten)"
      ],
      "execution_count": 47,
      "outputs": []
    },
    {
      "cell_type": "code",
      "metadata": {
        "id": "pK9UXMLBIlEA",
        "colab": {
          "base_uri": "https://localhost:8080/"
        },
        "outputId": "edc279c3-d155-4d8f-8598-68e7e3942618"
      },
      "source": [
        "test_logits"
      ],
      "execution_count": 48,
      "outputs": [
        {
          "output_type": "execute_result",
          "data": {
            "text/plain": [
              "array([[0., 0., 0., ..., 0., 0., 1.],\n",
              "       [0., 0., 1., ..., 0., 0., 0.],\n",
              "       [0., 1., 0., ..., 0., 0., 0.],\n",
              "       ...,\n",
              "       [0., 0., 0., ..., 0., 1., 0.],\n",
              "       [0., 1., 0., ..., 0., 0., 0.],\n",
              "       [0., 0., 0., ..., 0., 0., 0.]], dtype=float32)"
            ]
          },
          "metadata": {
            "tags": []
          },
          "execution_count": 48
        }
      ]
    },
    {
      "cell_type": "code",
      "metadata": {
        "id": "QALjBibII8Ah"
      },
      "source": [
        "test_predictions = np.argmax(test_logits, axis=1)\n"
      ],
      "execution_count": 49,
      "outputs": []
    },
    {
      "cell_type": "code",
      "metadata": {
        "id": "_M2B-1ZzI__z",
        "colab": {
          "base_uri": "https://localhost:8080/"
        },
        "outputId": "9cced00a-232c-4514-be14-5c7086fe1bdb"
      },
      "source": [
        "test_predictions"
      ],
      "execution_count": 50,
      "outputs": [
        {
          "output_type": "execute_result",
          "data": {
            "text/plain": [
              "array([9, 2, 1, ..., 8, 1, 5])"
            ]
          },
          "metadata": {
            "tags": []
          },
          "execution_count": 50
        }
      ]
    },
    {
      "cell_type": "code",
      "metadata": {
        "id": "TFgIjuYpJBGW",
        "colab": {
          "base_uri": "https://localhost:8080/",
          "height": 728
        },
        "outputId": "82bf76fb-970d-427a-f6ac-c4227c47e985"
      },
      "source": [
        "plt.figure(figsize=(10,10))\n",
        "for i in range(25):\n",
        "    plt.subplot(5,5,i+1)\n",
        "    plt.xticks([])\n",
        "    plt.yticks([])\n",
        "    plt.grid('off')\n",
        "    \n",
        "    img_index = np.random.randint(0, 10000)\n",
        "    plt.imshow(test_images[img_index], cmap=plt.cm.binary)\n",
        "    \n",
        "    actual_label = int(test_labels[img_index])\n",
        "    predicted_label = int(test_predictions[img_index])\n",
        "    \n",
        "    plt.xlabel(\"Actual: {} ({})\\n Predicted: {} ({})\".format(\n",
        "        actual_label, text_labels[actual_label], predicted_label, text_labels[predicted_label]\n",
        "    ))\n",
        "    \n",
        "plt.tight_layout()\n",
        "plt.show()"
      ],
      "execution_count": 51,
      "outputs": [
        {
          "output_type": "display_data",
          "data": {
            "image/png": "[encoded data removed]",
            "text/plain": [
              "<Figure size 720x720 with 25 Axes>"
            ]
          },
          "metadata": {
            "tags": []
          }
        }
      ]
    },
    {
      "cell_type": "markdown",
      "metadata": {
        "id": "87Y3MiVrYY4f"
      },
      "source": [
        "### **The model predicts 3 wrongs items from 25 wich is pretty good**:\n",
        "- 4: Coat and it was 2: Pullover\n",
        "- and, 0: t-shirt and it was 3: Dress \n",
        "- at last, predicted shirt6 as t-shirt0"
      ]
    },
    {
      "cell_type": "code",
      "metadata": {
        "colab": {
          "base_uri": "https://localhost:8080/"
        },
        "id": "QwJvcikF9M1g",
        "outputId": "e07cedd3-87ca-4536-affa-a98eea953093"
      },
      "source": [
        "test_images_model.shape"
      ],
      "execution_count": 52,
      "outputs": [
        {
          "output_type": "execute_result",
          "data": {
            "text/plain": [
              "(10000, 784)"
            ]
          },
          "metadata": {
            "tags": []
          },
          "execution_count": 52
        }
      ]
    },
    {
      "cell_type": "code",
      "metadata": {
        "colab": {
          "base_uri": "https://localhost:8080/"
        },
        "id": "cYaOSwbv9Sb0",
        "outputId": "64376833-d3e1-41b3-a684-5861cd9515d8"
      },
      "source": [
        "test_labels_categ.shape"
      ],
      "execution_count": 53,
      "outputs": [
        {
          "output_type": "execute_result",
          "data": {
            "text/plain": [
              "(10000, 10)"
            ]
          },
          "metadata": {
            "tags": []
          },
          "execution_count": 53
        }
      ]
    },
    {
      "cell_type": "code",
      "metadata": {
        "id": "Gnw0Cwc8JGe8",
        "colab": {
          "base_uri": "https://localhost:8080/",
          "height": 467
        },
        "outputId": "971a96a5-d3f5-407d-c4be-95b8596a98d2"
      },
      "source": [
        "# Summarize the training process\n",
        "fig = plt.figure(figsize=(20,7))\n",
        "fig.add_subplot(121)\n",
        "\n",
        "# Accuracy\n",
        "plt.plot(history.epoch, \n",
        "         history.history['accuracy'], \n",
        "         label = \"accuracy\",\n",
        "         color=\"r\")\n",
        "plt.plot(history.epoch, \n",
        "         history.history['val_accuracy'], \n",
        "         label = \"val_accuracy\",\n",
        "         color=\"tomato\")\n",
        "\n",
        "plt.title(\"=== Accuracy Curve ===\", fontsize=18, c=\"purple\")\n",
        "plt.xlabel(\"Epochs\", fontsize=15, c=\"b\")\n",
        "plt.ylabel(\"Accuracy\", fontsize=15, c=\"b\")\n",
        "plt.grid(alpha=0.3)\n",
        "plt.legend()\n",
        "\n",
        "\n",
        "#Adding Subplot 1 (For Loss)\n",
        "fig.add_subplot(122)\n",
        "\n",
        "plt.plot(history.epoch, history.history['loss'], label=\"loss\", color=\"darkblue\")\n",
        "plt.plot(history.epoch, history.history['val_loss'], label=\"val_loss\")\n",
        "\n",
        "plt.title(\"=== Loss Curve ===\", fontsize=18, c=\"purple\")\n",
        "plt.xlabel(\"Epochs\", fontsize=15, c=\"b\")\n",
        "plt.ylabel(\"Loss\", fontsize=15, c=\"b\")\n",
        "plt.grid(alpha=0.3, c=\"pink\")\n",
        "plt.legend()\n",
        "\n",
        "plt.show()"
      ],
      "execution_count": 54,
      "outputs": [
        {
          "output_type": "display_data",
          "data": {
            "image/png": "[encoded data removed]",
            "text/plain": [
              "<Figure size 1440x504 with 2 Axes>"
            ]
          },
          "metadata": {
            "tags": [],
            "needs_background": "light"
          }
        }
      ]
    },
    {
      "cell_type": "markdown",
      "metadata": {
        "id": "LpWeCovDj7Bg"
      },
      "source": [
        "###score Report"
      ]
    },
    {
      "cell_type": "code",
      "metadata": {
        "id": "pVCXzhrDmL2o"
      },
      "source": [
        "from sklearn.metrics import classification_report, confusion_matrix"
      ],
      "execution_count": 55,
      "outputs": []
    },
    {
      "cell_type": "code",
      "metadata": {
        "id": "HUVIFcRNhxdr"
      },
      "source": [
        "classes = ['T-shirt/Top','Trouser','Pullover','Dress','Coat','Sandal','Shirt','Sneaker','Bag','Ankle Boot']"
      ],
      "execution_count": 56,
      "outputs": []
    },
    {
      "cell_type": "code",
      "metadata": {
        "id": "Jnx0NmvGj9E1"
      },
      "source": [
        "predictions = model_n.predict(test_images_model)\n",
        "# Convert predictions classes to one hot vectors \n",
        "predictions_classes = np.argmax(predictions, axis = 1)\n",
        "# Convert test set observations to one hot vectors\n",
        "y_true = np.argmax(test_labels_categ, axis = 1)"
      ],
      "execution_count": 57,
      "outputs": []
    },
    {
      "cell_type": "code",
      "metadata": {
        "colab": {
          "base_uri": "https://localhost:8080/"
        },
        "id": "o1mexcMRl9JX",
        "outputId": "b92a5208-70e2-4e30-e61e-cc93fc06bad6"
      },
      "source": [
        "print(classification_report(y_true, predictions_classes, target_names = classes))"
      ],
      "execution_count": 58,
      "outputs": [
        {
          "output_type": "stream",
          "text": [
            "              precision    recall  f1-score   support\n",
            "\n",
            " T-shirt/Top       0.83      0.85      0.84      1000\n",
            "     Trouser       0.99      0.97      0.98      1000\n",
            "    Pullover       0.79      0.81      0.80      1000\n",
            "       Dress       0.88      0.90      0.89      1000\n",
            "        Coat       0.79      0.83      0.81      1000\n",
            "      Sandal       0.98      0.97      0.98      1000\n",
            "       Shirt       0.73      0.67      0.70      1000\n",
            "     Sneaker       0.94      0.96      0.95      1000\n",
            "         Bag       0.98      0.98      0.98      1000\n",
            "  Ankle Boot       0.97      0.96      0.97      1000\n",
            "\n",
            "    accuracy                           0.89     10000\n",
            "   macro avg       0.89      0.89      0.89     10000\n",
            "weighted avg       0.89      0.89      0.89     10000\n",
            "\n"
          ],
          "name": "stdout"
        }
      ]
    },
    {
      "cell_type": "markdown",
      "metadata": {
        "id": "WLLyH4RligQP"
      },
      "source": [
        "###The model has some difficult to predict the shirt images = \n",
        "- about 70% of Shirts correctly from total images it predicted as Shirts\n",
        "- and the rest is predicted wrong"
      ]
    },
    {
      "cell_type": "markdown",
      "metadata": {
        "id": "MVC9FZ-MaR_E"
      },
      "source": [
        "##Plot confusion Matrix "
      ]
    },
    {
      "cell_type": "code",
      "metadata": {
        "id": "w9qtFrWDb5Is"
      },
      "source": [
        "import itertools"
      ],
      "execution_count": 59,
      "outputs": []
    },
    {
      "cell_type": "code",
      "metadata": {
        "id": "Da86lGq0aWV8"
      },
      "source": [
        "def plot_confusion_matrix(cm, classes,\n",
        "                          normalize= False,\n",
        "                          title= 'Confusion matrix',\n",
        "                          cmap= plt.cm.PuBuGn):\n",
        "    plt.figure(figsize= (18,10))\n",
        "    plt.imshow(cm, interpolation='nearest', cmap= cmap)\n",
        "    plt.title(title, fontsize=18, c=\"DarkOrchid\")\n",
        "    plt.colorbar()\n",
        "    tick_marks = np.arange(len(classes))\n",
        "    plt.xticks(tick_marks, classes, rotation= 75, c=\"purple\")\n",
        "    plt.yticks(tick_marks, classes, c=\"purple\")\n",
        "\n",
        "    if normalize:\n",
        "        cm = cm.astype('float') / cm.sum(axis=1)[:, np.newaxis]\n",
        "\n",
        "    thresh = cm.max() / 2.\n",
        "    for i, j in itertools.product(range(cm.shape[0]), range(cm.shape[1])):\n",
        "        plt.text(j, i, cm[i, j],\n",
        "                 horizontalalignment=\"center\",\n",
        "                 color=\"yellow\" if cm[i, j] > thresh else \"navy\")\n",
        "\n",
        "    plt.tight_layout()\n",
        "    plt.ylabel('Actual label',  fontsize=16, c=\"DarkSlateBlue\")\n",
        "    plt.xlabel('Predicted label', fontsize=16, c=\"DarkSlateBlue\")"
      ],
      "execution_count": 60,
      "outputs": []
    },
    {
      "cell_type": "code",
      "metadata": {
        "colab": {
          "base_uri": "https://localhost:8080/",
          "height": 748
        },
        "id": "YoHxv75za2od",
        "outputId": "ee6ef011-7bf8-40d1-be85-70b3be3b4a60"
      },
      "source": [
        "# Predict the values from the validation dataset\n",
        "Y_pred = model_n.predict(test_images_model)\n",
        "\n",
        "# Convert predictions classes to one hot vectors \n",
        "Y_pred_classes = np.argmax(Y_pred,\n",
        "                           axis = 1) \n",
        "\n",
        "# Convert validation labels to one hot vectors\n",
        "Y_true = np.argmax(test_labels_categ,\n",
        "                   axis = 1) \n",
        "\n",
        "#confusion matrix\n",
        "confusion = confusion_matrix(Y_true, Y_pred_classes) \n",
        "\n",
        "# plot the confusion matrix\n",
        "plot_confusion_matrix(confusion, \n",
        "            classes = classes)"
      ],
      "execution_count": 61,
      "outputs": [
        {
          "output_type": "display_data",
          "data": {
            "image/png": "[encoded data removed]",
            "text/plain": [
              "<Figure size 1296x720 with 2 Axes>"
            ]
          },
          "metadata": {
            "tags": [],
            "needs_background": "light"
          }
        }
      ]
    },
    {
      "cell_type": "markdown",
      "metadata": {
        "id": "JJxm_WhIgAKu"
      },
      "source": [
        "#### Also, we can see that a large number of T-shirt/top are wrongly classified as Shirt, also pullover and coat, the same results as the report above\n"
      ]
    }
  ]
}